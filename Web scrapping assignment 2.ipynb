{
 "cells": [
  {
   "cell_type": "code",
   "execution_count": 5,
   "metadata": {},
   "outputs": [],
   "source": [
    "#pip install selenium"
   ]
  },
  {
   "cell_type": "code",
   "execution_count": 171,
   "metadata": {},
   "outputs": [],
   "source": [
    "# importing all libraries\n",
    "import selenium\n",
    "import pandas as pd\n",
    "from selenium import webdriver"
   ]
  },
  {
   "cell_type": "markdown",
   "metadata": {},
   "source": [
    "# 1. scrapping first 10 data analyst jobs in bangalore"
   ]
  },
  {
   "cell_type": "code",
   "execution_count": 172,
   "metadata": {},
   "outputs": [],
   "source": [
    "# connect to web driver\n",
    "driver=webdriver.Chrome('chromedriver.exe')"
   ]
  },
  {
   "cell_type": "code",
   "execution_count": 8,
   "metadata": {},
   "outputs": [],
   "source": [
    "# connect to website using web driver\n",
    "driver.get('http://www.naukri.com')"
   ]
  },
  {
   "cell_type": "code",
   "execution_count": 9,
   "metadata": {},
   "outputs": [],
   "source": [
    "# searching for key words\n",
    "search_job=driver.find_element_by_id('qsb-keyword-sugg')\n",
    "search_job.send_keys('Data Analyst')\n",
    "search_loc=driver.find_element_by_id('qsb-location-sugg')\n",
    "search_loc.send_keys('Bangalore')"
   ]
  },
  {
   "cell_type": "code",
   "execution_count": 10,
   "metadata": {},
   "outputs": [],
   "source": [
    "search_but=driver.find_element_by_xpath(\"//div[@class='search-btn']/button\")\n",
    "search_but.click()"
   ]
  },
  {
   "cell_type": "code",
   "execution_count": 11,
   "metadata": {},
   "outputs": [],
   "source": [
    "# specifying the url of the web page to be scrapped\n",
    "url='https://www.naukri.com/data-analyst-jobs-in-bangalore?k=data%20analyst&l=bangalore'"
   ]
  },
  {
   "cell_type": "code",
   "execution_count": 12,
   "metadata": {},
   "outputs": [],
   "source": [
    "#lets open webpage from web driver\n",
    "driver.get(url)"
   ]
  },
  {
   "cell_type": "code",
   "execution_count": 13,
   "metadata": {},
   "outputs": [],
   "source": [
    "# creating empty lists to append scrapped data\n",
    "job_title=[]\n",
    "job_loc=[]\n",
    "company_name=[]\n",
    "experience_req=[]"
   ]
  },
  {
   "cell_type": "code",
   "execution_count": 14,
   "metadata": {},
   "outputs": [
    {
     "data": {
      "text/plain": [
       "[<selenium.webdriver.remote.webelement.WebElement (session=\"5c27c843d69dc2ac3b7f8e8a2767bd64\", element=\"e1673160-95a0-46e6-a0cd-728102bef63d\")>,\n",
       " <selenium.webdriver.remote.webelement.WebElement (session=\"5c27c843d69dc2ac3b7f8e8a2767bd64\", element=\"9909ed9b-84c7-4fc3-9d12-2a593f4fd558\")>,\n",
       " <selenium.webdriver.remote.webelement.WebElement (session=\"5c27c843d69dc2ac3b7f8e8a2767bd64\", element=\"b3295af9-3300-4dae-86bf-55bffe231ec6\")>,\n",
       " <selenium.webdriver.remote.webelement.WebElement (session=\"5c27c843d69dc2ac3b7f8e8a2767bd64\", element=\"aa88f82f-c8c2-4c64-8161-9e3d22da0134\")>,\n",
       " <selenium.webdriver.remote.webelement.WebElement (session=\"5c27c843d69dc2ac3b7f8e8a2767bd64\", element=\"24a5a34a-8152-419b-9b8c-a232d2f948ed\")>]"
      ]
     },
     "execution_count": 14,
     "metadata": {},
     "output_type": "execute_result"
    }
   ],
   "source": [
    "# scraping job titles\n",
    "title_tags=driver.find_elements_by_xpath(\"//a[@class='title fw500 ellipsis']\")\n",
    "title_tags[0:5]"
   ]
  },
  {
   "cell_type": "code",
   "execution_count": 15,
   "metadata": {},
   "outputs": [
    {
     "data": {
      "text/plain": [
       "['MIS/ Data Analyst-(SQL,Automation,Excel/PowerBI,Dashboards) - Contract',\n",
       " 'Data Analyst - SAP',\n",
       " 'Senior Data Analyst',\n",
       " 'Security Data Analyst',\n",
       " 'Data Analyst -Azure Data lake, Azure Data factory']"
      ]
     },
     "execution_count": 15,
     "metadata": {},
     "output_type": "execute_result"
    }
   ],
   "source": [
    "# extracting text from above tags\n",
    "\n",
    "for i in title_tags:\n",
    "    title=i.text\n",
    "    job_title.append(title)\n",
    "    \n",
    "job_title[0:5]"
   ]
  },
  {
   "cell_type": "code",
   "execution_count": 24,
   "metadata": {},
   "outputs": [
    {
     "data": {
      "text/plain": [
       "[<selenium.webdriver.remote.webelement.WebElement (session=\"5c27c843d69dc2ac3b7f8e8a2767bd64\", element=\"4224a021-ec1a-4c98-893b-5d8767a0497c\")>,\n",
       " <selenium.webdriver.remote.webelement.WebElement (session=\"5c27c843d69dc2ac3b7f8e8a2767bd64\", element=\"ad155931-9cd3-42ae-824a-1d4a632eaa9c\")>,\n",
       " <selenium.webdriver.remote.webelement.WebElement (session=\"5c27c843d69dc2ac3b7f8e8a2767bd64\", element=\"bc8d782f-df80-4b7a-8070-3380643396c9\")>,\n",
       " <selenium.webdriver.remote.webelement.WebElement (session=\"5c27c843d69dc2ac3b7f8e8a2767bd64\", element=\"b3d34df4-a3ae-4974-b143-08bfb8051caf\")>,\n",
       " <selenium.webdriver.remote.webelement.WebElement (session=\"5c27c843d69dc2ac3b7f8e8a2767bd64\", element=\"d491ed10-9d3c-4c6a-a023-d0d1d68b3de6\")>]"
      ]
     },
     "execution_count": 24,
     "metadata": {},
     "output_type": "execute_result"
    }
   ],
   "source": [
    "# scrapping job location\n",
    "loc_tag=driver.find_elements_by_xpath(\"//li[@class='fleft grey-text br2 placeHolderLi location']/span[1]\")\n",
    "loc_tag[0:5]"
   ]
  },
  {
   "cell_type": "code",
   "execution_count": 26,
   "metadata": {},
   "outputs": [
    {
     "data": {
      "text/plain": [
       "['Bengaluru',\n",
       " 'Pune, Delhi, Bengaluru, Gurgaon',\n",
       " 'Bengaluru / Bangalore',\n",
       " 'Bengaluru',\n",
       " 'Chennai, Pune, Bengaluru, Hyderabad']"
      ]
     },
     "execution_count": 26,
     "metadata": {},
     "output_type": "execute_result"
    }
   ],
   "source": [
    "for i in loc_tag:\n",
    "    location=i.text\n",
    "    job_loc.append(location)\n",
    "    \n",
    "    \n",
    "job_loc[0:5]"
   ]
  },
  {
   "cell_type": "code",
   "execution_count": 29,
   "metadata": {},
   "outputs": [
    {
     "data": {
      "text/plain": [
       "[<selenium.webdriver.remote.webelement.WebElement (session=\"5c27c843d69dc2ac3b7f8e8a2767bd64\", element=\"b0b37317-24be-4d4c-bdcd-5214621a1a35\")>,\n",
       " <selenium.webdriver.remote.webelement.WebElement (session=\"5c27c843d69dc2ac3b7f8e8a2767bd64\", element=\"16b959a0-a71d-4cfc-a2d4-e2bcb514cc71\")>,\n",
       " <selenium.webdriver.remote.webelement.WebElement (session=\"5c27c843d69dc2ac3b7f8e8a2767bd64\", element=\"e8d952fd-b9b4-44dc-a5bf-81880cdb9193\")>,\n",
       " <selenium.webdriver.remote.webelement.WebElement (session=\"5c27c843d69dc2ac3b7f8e8a2767bd64\", element=\"f029b396-7c92-4641-9bfe-a8238c647f09\")>,\n",
       " <selenium.webdriver.remote.webelement.WebElement (session=\"5c27c843d69dc2ac3b7f8e8a2767bd64\", element=\"a4749393-59c7-4741-9cb2-92e6f1a0df40\")>]"
      ]
     },
     "execution_count": 29,
     "metadata": {},
     "output_type": "execute_result"
    }
   ],
   "source": [
    "# scrapping company names\n",
    "\n",
    "company_tag=driver.find_elements_by_xpath(\"//a[@class='subTitle ellipsis fleft']\")\n",
    "company_tag[0:5]"
   ]
  },
  {
   "cell_type": "code",
   "execution_count": 31,
   "metadata": {},
   "outputs": [
    {
     "data": {
      "text/plain": [
       "['Flipkart Internet Private Limited',\n",
       " 'Boston Scientific Corporation',\n",
       " 'Schneider Electric',\n",
       " 'Philips India Limited',\n",
       " 'Mindtree Limited']"
      ]
     },
     "execution_count": 31,
     "metadata": {},
     "output_type": "execute_result"
    }
   ],
   "source": [
    "for i in company_tag:\n",
    "    company=i.text\n",
    "    company_name.append(company)\n",
    "    \n",
    "company_name[0:5]"
   ]
  },
  {
   "cell_type": "code",
   "execution_count": 34,
   "metadata": {},
   "outputs": [
    {
     "data": {
      "text/plain": [
       "[<selenium.webdriver.remote.webelement.WebElement (session=\"5c27c843d69dc2ac3b7f8e8a2767bd64\", element=\"1892af25-7849-470b-9060-e199ee1bcd7d\")>,\n",
       " <selenium.webdriver.remote.webelement.WebElement (session=\"5c27c843d69dc2ac3b7f8e8a2767bd64\", element=\"7e221311-47af-4673-9f2b-7dc2b1c7e069\")>,\n",
       " <selenium.webdriver.remote.webelement.WebElement (session=\"5c27c843d69dc2ac3b7f8e8a2767bd64\", element=\"5917d91e-210b-44c7-a5d5-018d9d0f0e18\")>,\n",
       " <selenium.webdriver.remote.webelement.WebElement (session=\"5c27c843d69dc2ac3b7f8e8a2767bd64\", element=\"a66644c3-3cf1-4efc-9cdd-18f9e5a03ff2\")>,\n",
       " <selenium.webdriver.remote.webelement.WebElement (session=\"5c27c843d69dc2ac3b7f8e8a2767bd64\", element=\"0e549478-7677-4ea0-aa90-1337b8b92b33\")>]"
      ]
     },
     "execution_count": 34,
     "metadata": {},
     "output_type": "execute_result"
    }
   ],
   "source": [
    "# scrapping experince\n",
    "\n",
    "exp_tag=driver.find_elements_by_xpath(\"//li[@class='fleft grey-text br2 placeHolderLi experience']/span[1]\")\n",
    "exp_tag[0:5]"
   ]
  },
  {
   "cell_type": "code",
   "execution_count": 36,
   "metadata": {},
   "outputs": [
    {
     "data": {
      "text/plain": [
       "['1-4 Yrs', '3-5 Yrs', '2-5 Yrs', '2-4 Yrs', '5-9 Yrs']"
      ]
     },
     "execution_count": 36,
     "metadata": {},
     "output_type": "execute_result"
    }
   ],
   "source": [
    "for i in exp_tag:\n",
    "    exp=i.text\n",
    "    experience_req.append(exp)\n",
    "    \n",
    "experience_req[0:5]"
   ]
  },
  {
   "cell_type": "code",
   "execution_count": 39,
   "metadata": {},
   "outputs": [
    {
     "name": "stdout",
     "output_type": "stream",
     "text": [
      "20 40 40 40\n"
     ]
    }
   ],
   "source": [
    "print(len(job_title),len(job_loc),len(company_name),len(experience_req))"
   ]
  },
  {
   "cell_type": "code",
   "execution_count": 40,
   "metadata": {},
   "outputs": [],
   "source": [
    "# Top 10 data analyst jobs in bangalore\n",
    "\n",
    "jobs=pd.DataFrame({})\n",
    "jobs['Titles']=job_title[0:10]\n",
    "jobs['Location']=job_loc[0:10]\n",
    "jobs['Company']=company_name[0:10]\n",
    "jobs['Experience_required']=experience_req[0:10]"
   ]
  },
  {
   "cell_type": "code",
   "execution_count": 41,
   "metadata": {},
   "outputs": [
    {
     "data": {
      "text/html": [
       "<div>\n",
       "<style scoped>\n",
       "    .dataframe tbody tr th:only-of-type {\n",
       "        vertical-align: middle;\n",
       "    }\n",
       "\n",
       "    .dataframe tbody tr th {\n",
       "        vertical-align: top;\n",
       "    }\n",
       "\n",
       "    .dataframe thead th {\n",
       "        text-align: right;\n",
       "    }\n",
       "</style>\n",
       "<table border=\"1\" class=\"dataframe\">\n",
       "  <thead>\n",
       "    <tr style=\"text-align: right;\">\n",
       "      <th></th>\n",
       "      <th>Titles</th>\n",
       "      <th>Location</th>\n",
       "      <th>Company</th>\n",
       "      <th>Experience_required</th>\n",
       "    </tr>\n",
       "  </thead>\n",
       "  <tbody>\n",
       "    <tr>\n",
       "      <th>0</th>\n",
       "      <td>MIS/ Data Analyst-(SQL,Automation,Excel/PowerB...</td>\n",
       "      <td>Bengaluru</td>\n",
       "      <td>Flipkart Internet Private Limited</td>\n",
       "      <td>1-4 Yrs</td>\n",
       "    </tr>\n",
       "    <tr>\n",
       "      <th>1</th>\n",
       "      <td>Data Analyst - SAP</td>\n",
       "      <td>Pune, Delhi, Bengaluru, Gurgaon</td>\n",
       "      <td>Boston Scientific Corporation</td>\n",
       "      <td>3-5 Yrs</td>\n",
       "    </tr>\n",
       "    <tr>\n",
       "      <th>2</th>\n",
       "      <td>Senior Data Analyst</td>\n",
       "      <td>Bengaluru / Bangalore</td>\n",
       "      <td>Schneider Electric</td>\n",
       "      <td>2-5 Yrs</td>\n",
       "    </tr>\n",
       "    <tr>\n",
       "      <th>3</th>\n",
       "      <td>Security Data Analyst</td>\n",
       "      <td>Bengaluru</td>\n",
       "      <td>Philips India Limited</td>\n",
       "      <td>2-4 Yrs</td>\n",
       "    </tr>\n",
       "    <tr>\n",
       "      <th>4</th>\n",
       "      <td>Data Analyst -Azure Data lake, Azure Data factory</td>\n",
       "      <td>Chennai, Pune, Bengaluru, Hyderabad</td>\n",
       "      <td>Mindtree Limited</td>\n",
       "      <td>5-9 Yrs</td>\n",
       "    </tr>\n",
       "    <tr>\n",
       "      <th>5</th>\n",
       "      <td>Business / Data Analyst</td>\n",
       "      <td>Bengaluru</td>\n",
       "      <td>IBM India Pvt. Limited</td>\n",
       "      <td>2-4 Yrs</td>\n",
       "    </tr>\n",
       "    <tr>\n",
       "      <th>6</th>\n",
       "      <td>Data Analyst - O2C - Bangalore</td>\n",
       "      <td>Bengaluru</td>\n",
       "      <td>RANDSTAD INDIA PVT LTD</td>\n",
       "      <td>2-4 Yrs</td>\n",
       "    </tr>\n",
       "    <tr>\n",
       "      <th>7</th>\n",
       "      <td>Intern Data Analyst</td>\n",
       "      <td>Bengaluru</td>\n",
       "      <td>Outsource Big Data</td>\n",
       "      <td>0-1 Yrs</td>\n",
       "    </tr>\n",
       "    <tr>\n",
       "      <th>8</th>\n",
       "      <td>NiFi Data Analyst</td>\n",
       "      <td>Bengaluru</td>\n",
       "      <td>Capgemini Technology Services India Limited</td>\n",
       "      <td>4-6 Yrs</td>\n",
       "    </tr>\n",
       "    <tr>\n",
       "      <th>9</th>\n",
       "      <td>Requirement For Data Analyst(Advance excel can...</td>\n",
       "      <td>Chennai, Bengaluru</td>\n",
       "      <td>Emagine People Technologies Private Limited</td>\n",
       "      <td>0-2 Yrs</td>\n",
       "    </tr>\n",
       "  </tbody>\n",
       "</table>\n",
       "</div>"
      ],
      "text/plain": [
       "                                              Titles  \\\n",
       "0  MIS/ Data Analyst-(SQL,Automation,Excel/PowerB...   \n",
       "1                                 Data Analyst - SAP   \n",
       "2                                Senior Data Analyst   \n",
       "3                              Security Data Analyst   \n",
       "4  Data Analyst -Azure Data lake, Azure Data factory   \n",
       "5                            Business / Data Analyst   \n",
       "6                     Data Analyst - O2C - Bangalore   \n",
       "7                                Intern Data Analyst   \n",
       "8                                  NiFi Data Analyst   \n",
       "9  Requirement For Data Analyst(Advance excel can...   \n",
       "\n",
       "                              Location  \\\n",
       "0                            Bengaluru   \n",
       "1      Pune, Delhi, Bengaluru, Gurgaon   \n",
       "2                Bengaluru / Bangalore   \n",
       "3                            Bengaluru   \n",
       "4  Chennai, Pune, Bengaluru, Hyderabad   \n",
       "5                            Bengaluru   \n",
       "6                            Bengaluru   \n",
       "7                            Bengaluru   \n",
       "8                            Bengaluru   \n",
       "9                   Chennai, Bengaluru   \n",
       "\n",
       "                                       Company Experience_required  \n",
       "0            Flipkart Internet Private Limited             1-4 Yrs  \n",
       "1                Boston Scientific Corporation             3-5 Yrs  \n",
       "2                           Schneider Electric             2-5 Yrs  \n",
       "3                        Philips India Limited             2-4 Yrs  \n",
       "4                             Mindtree Limited             5-9 Yrs  \n",
       "5                       IBM India Pvt. Limited             2-4 Yrs  \n",
       "6                       RANDSTAD INDIA PVT LTD             2-4 Yrs  \n",
       "7                           Outsource Big Data             0-1 Yrs  \n",
       "8  Capgemini Technology Services India Limited             4-6 Yrs  \n",
       "9  Emagine People Technologies Private Limited             0-2 Yrs  "
      ]
     },
     "execution_count": 41,
     "metadata": {},
     "output_type": "execute_result"
    }
   ],
   "source": [
    "jobs"
   ]
  },
  {
   "cell_type": "markdown",
   "metadata": {},
   "source": [
    "# 2. scrapping full job description"
   ]
  },
  {
   "cell_type": "code",
   "execution_count": 107,
   "metadata": {},
   "outputs": [],
   "source": [
    "# connect to website using web driver\n",
    "driver.get('http://www.naukri.com')"
   ]
  },
  {
   "cell_type": "code",
   "execution_count": 108,
   "metadata": {},
   "outputs": [],
   "source": [
    "# searching for key words\n",
    "search_job=driver.find_element_by_id('qsb-keyword-sugg')\n",
    "search_job.send_keys('Data Scientist')\n",
    "search_loc=driver.find_element_by_id('qsb-location-sugg')\n",
    "search_loc.send_keys('Bangalore')"
   ]
  },
  {
   "cell_type": "code",
   "execution_count": 109,
   "metadata": {},
   "outputs": [],
   "source": [
    "search_but=driver.find_element_by_xpath(\"//div[@class='search-btn']/button\")\n",
    "search_but.click()"
   ]
  },
  {
   "cell_type": "code",
   "execution_count": 110,
   "metadata": {},
   "outputs": [],
   "source": [
    "url='https://www.naukri.com/data-scientist-jobs-in-bangalore?k=data%20scientist&l=bangalore'"
   ]
  },
  {
   "cell_type": "code",
   "execution_count": 111,
   "metadata": {},
   "outputs": [],
   "source": [
    "#lets open webpage from web driver\n",
    "driver.get(url)"
   ]
  },
  {
   "cell_type": "code",
   "execution_count": 112,
   "metadata": {},
   "outputs": [],
   "source": [
    "# creating empty lists to append scrapped data\n",
    "job_title=[]\n",
    "job_loc=[]\n",
    "company_name=[]\n",
    "experience_req=[]\n",
    "job_description=[]"
   ]
  },
  {
   "cell_type": "code",
   "execution_count": 113,
   "metadata": {},
   "outputs": [
    {
     "data": {
      "text/plain": [
       "[<selenium.webdriver.remote.webelement.WebElement (session=\"89ce08905c555ae90a992167f59ec5a2\", element=\"e8c6d993-027e-483f-8d7b-6a80ce9ddef6\")>,\n",
       " <selenium.webdriver.remote.webelement.WebElement (session=\"89ce08905c555ae90a992167f59ec5a2\", element=\"48d15d65-0008-45a2-8212-f835ec32cf0f\")>,\n",
       " <selenium.webdriver.remote.webelement.WebElement (session=\"89ce08905c555ae90a992167f59ec5a2\", element=\"8a681e06-7de9-49a1-bfcb-4d36cc9c95be\")>,\n",
       " <selenium.webdriver.remote.webelement.WebElement (session=\"89ce08905c555ae90a992167f59ec5a2\", element=\"0ba34cb6-c092-46fd-9cd2-ab8a7c1ddcff\")>,\n",
       " <selenium.webdriver.remote.webelement.WebElement (session=\"89ce08905c555ae90a992167f59ec5a2\", element=\"7529a30d-e539-4a2c-a4ec-8a3b699bbc72\")>]"
      ]
     },
     "execution_count": 113,
     "metadata": {},
     "output_type": "execute_result"
    }
   ],
   "source": [
    "# scraping job titles\n",
    "title_tags=driver.find_elements_by_xpath(\"//a[@class='title fw500 ellipsis']\")\n",
    "title_tags[0:5]"
   ]
  },
  {
   "cell_type": "code",
   "execution_count": 114,
   "metadata": {},
   "outputs": [
    {
     "data": {
      "text/plain": [
       "['Data Scientist/Data Analyst-immediate',\n",
       " 'Data Scientist - Python/ MATLAB/ Machine Learning Algorithms',\n",
       " 'Lead Data Scientist - Machine Learning/ Data Mining',\n",
       " 'Data Scientist - Machine Learning (Commerce BU)',\n",
       " 'Opening For Sr. Data Scientist @ Tech Mahindra']"
      ]
     },
     "execution_count": 114,
     "metadata": {},
     "output_type": "execute_result"
    }
   ],
   "source": [
    "# extracting text from above tags\n",
    "\n",
    "for i in title_tags:\n",
    "    title=i.text\n",
    "    job_title.append(title)\n",
    "    \n",
    "job_title[0:5]"
   ]
  },
  {
   "cell_type": "code",
   "execution_count": 115,
   "metadata": {},
   "outputs": [
    {
     "data": {
      "text/plain": [
       "[<selenium.webdriver.remote.webelement.WebElement (session=\"89ce08905c555ae90a992167f59ec5a2\", element=\"09e09a6b-da79-4b55-9946-8b004f3af6c8\")>,\n",
       " <selenium.webdriver.remote.webelement.WebElement (session=\"89ce08905c555ae90a992167f59ec5a2\", element=\"1e8448d3-09d6-4ef7-8bf4-0871917fea96\")>,\n",
       " <selenium.webdriver.remote.webelement.WebElement (session=\"89ce08905c555ae90a992167f59ec5a2\", element=\"13d9ab03-d180-4c3f-b75b-0e1514368e42\")>,\n",
       " <selenium.webdriver.remote.webelement.WebElement (session=\"89ce08905c555ae90a992167f59ec5a2\", element=\"30a856c8-be77-410d-b060-edfa2df4c924\")>,\n",
       " <selenium.webdriver.remote.webelement.WebElement (session=\"89ce08905c555ae90a992167f59ec5a2\", element=\"1808202a-f226-4273-90ce-1ffb2a8ba6c7\")>]"
      ]
     },
     "execution_count": 115,
     "metadata": {},
     "output_type": "execute_result"
    }
   ],
   "source": [
    "# scrapping job location\n",
    "loc_tag=driver.find_elements_by_xpath(\"//li[@class='fleft grey-text br2 placeHolderLi location']/span[1]\")\n",
    "loc_tag[0:5]"
   ]
  },
  {
   "cell_type": "code",
   "execution_count": 116,
   "metadata": {},
   "outputs": [
    {
     "data": {
      "text/plain": [
       "['Chennai, Pune, Bengaluru, Hyderabad',\n",
       " 'Bengaluru',\n",
       " 'Bengaluru',\n",
       " 'Bengaluru',\n",
       " 'Pune, Bengaluru']"
      ]
     },
     "execution_count": 116,
     "metadata": {},
     "output_type": "execute_result"
    }
   ],
   "source": [
    "for i in loc_tag:\n",
    "    location=i.text\n",
    "    job_loc.append(location)\n",
    "    \n",
    "    \n",
    "job_loc[0:5]"
   ]
  },
  {
   "cell_type": "code",
   "execution_count": 117,
   "metadata": {},
   "outputs": [
    {
     "data": {
      "text/plain": [
       "[<selenium.webdriver.remote.webelement.WebElement (session=\"89ce08905c555ae90a992167f59ec5a2\", element=\"f572cf3a-4a23-4db9-8b5f-9d6e6b2b577b\")>,\n",
       " <selenium.webdriver.remote.webelement.WebElement (session=\"89ce08905c555ae90a992167f59ec5a2\", element=\"73c02ae5-6b0e-4d94-ae64-ca1b20858581\")>,\n",
       " <selenium.webdriver.remote.webelement.WebElement (session=\"89ce08905c555ae90a992167f59ec5a2\", element=\"a697cdd6-470b-44a1-8973-9660dc18494d\")>,\n",
       " <selenium.webdriver.remote.webelement.WebElement (session=\"89ce08905c555ae90a992167f59ec5a2\", element=\"062ce1b9-0d93-4030-9010-ab4c4f3d5500\")>,\n",
       " <selenium.webdriver.remote.webelement.WebElement (session=\"89ce08905c555ae90a992167f59ec5a2\", element=\"c56fddc5-3b8d-4a6e-8cd7-141b7b389455\")>]"
      ]
     },
     "execution_count": 117,
     "metadata": {},
     "output_type": "execute_result"
    }
   ],
   "source": [
    "# scrapping company names\n",
    "\n",
    "company_tag=driver.find_elements_by_xpath(\"//a[@class='subTitle ellipsis fleft']\")\n",
    "company_tag[0:5]"
   ]
  },
  {
   "cell_type": "code",
   "execution_count": 118,
   "metadata": {},
   "outputs": [
    {
     "data": {
      "text/plain": [
       "['Inflexion Analytix Private Limited',\n",
       " 'Wrackle Technologies Pvt Ltd',\n",
       " 'Wrackle Technologies Pvt Ltd',\n",
       " 'BLUE YONDER INDIA PRIVATE LIMITED',\n",
       " 'Tech Mahindra Ltd.']"
      ]
     },
     "execution_count": 118,
     "metadata": {},
     "output_type": "execute_result"
    }
   ],
   "source": [
    "for i in company_tag:\n",
    "    company=i.text\n",
    "    company_name.append(company)\n",
    "    \n",
    "company_name[0:5]"
   ]
  },
  {
   "cell_type": "code",
   "execution_count": 119,
   "metadata": {},
   "outputs": [
    {
     "data": {
      "text/plain": [
       "[<selenium.webdriver.remote.webelement.WebElement (session=\"89ce08905c555ae90a992167f59ec5a2\", element=\"6f78bf9e-eb91-4b15-aa5e-7a2860f2479d\")>,\n",
       " <selenium.webdriver.remote.webelement.WebElement (session=\"89ce08905c555ae90a992167f59ec5a2\", element=\"63b2b84b-a07a-4008-b68a-b2f6e8b38f38\")>,\n",
       " <selenium.webdriver.remote.webelement.WebElement (session=\"89ce08905c555ae90a992167f59ec5a2\", element=\"88f929dc-6181-4133-a0fc-442101521010\")>,\n",
       " <selenium.webdriver.remote.webelement.WebElement (session=\"89ce08905c555ae90a992167f59ec5a2\", element=\"b21bd7db-4e60-4e4a-8dec-a8a6baf483c9\")>,\n",
       " <selenium.webdriver.remote.webelement.WebElement (session=\"89ce08905c555ae90a992167f59ec5a2\", element=\"b3e6136c-a564-4b90-9e95-4a537d9618b0\")>]"
      ]
     },
     "execution_count": 119,
     "metadata": {},
     "output_type": "execute_result"
    }
   ],
   "source": [
    "# scrapping experince\n",
    "\n",
    "exp_tag=driver.find_elements_by_xpath(\"//li[@class='fleft grey-text br2 placeHolderLi experience']/span[1]\")\n",
    "exp_tag[0:5]"
   ]
  },
  {
   "cell_type": "code",
   "execution_count": 120,
   "metadata": {},
   "outputs": [
    {
     "data": {
      "text/plain": [
       "['0-2 Yrs', '3-8 Yrs', '6-11 Yrs', '2-7 Yrs', '12-20 Yrs']"
      ]
     },
     "execution_count": 120,
     "metadata": {},
     "output_type": "execute_result"
    }
   ],
   "source": [
    "for i in exp_tag:\n",
    "    exp=i.text\n",
    "    experience_req.append(exp)\n",
    "    \n",
    "experience_req[0:5]"
   ]
  },
  {
   "cell_type": "code",
   "execution_count": 121,
   "metadata": {},
   "outputs": [
    {
     "data": {
      "text/plain": [
       "[<selenium.webdriver.remote.webelement.WebElement (session=\"89ce08905c555ae90a992167f59ec5a2\", element=\"1f9b7397-d1de-423c-a1f3-406b9e87ba92\")>,\n",
       " <selenium.webdriver.remote.webelement.WebElement (session=\"89ce08905c555ae90a992167f59ec5a2\", element=\"546f2a3f-01dd-4872-85de-9709d46cec01\")>,\n",
       " <selenium.webdriver.remote.webelement.WebElement (session=\"89ce08905c555ae90a992167f59ec5a2\", element=\"07be591f-e47d-4c12-acbc-6fbf06ae1be1\")>,\n",
       " <selenium.webdriver.remote.webelement.WebElement (session=\"89ce08905c555ae90a992167f59ec5a2\", element=\"8467c7ef-014b-46b0-9887-c4c4375d2efe\")>,\n",
       " <selenium.webdriver.remote.webelement.WebElement (session=\"89ce08905c555ae90a992167f59ec5a2\", element=\"c27c0e7f-28c2-4590-b9a2-71bed9c1ba4d\")>]"
      ]
     },
     "execution_count": 121,
     "metadata": {},
     "output_type": "execute_result"
    }
   ],
   "source": [
    "desc_tag=driver.find_elements_by_xpath(\"//div[@class='job-description fs12 grey-text']\")\n",
    "desc_tag[0:5]"
   ]
  },
  {
   "cell_type": "code",
   "execution_count": 122,
   "metadata": {},
   "outputs": [],
   "source": [
    "for i in desc_tag:\n",
    "    desc=i.click()  "
   ]
  },
  {
   "cell_type": "code",
   "execution_count": 123,
   "metadata": {},
   "outputs": [],
   "source": [
    "url=['https://www.naukri.com/job-listings-data-scientist-data-analyst-immediate-inflexion-analytix-private-limited-chennai-pune-bengaluru-bangalore-hyderabad-secunderabad-0-to-2-years-160221001218?src=jobsearchDesk&sid=16136320822119881&xp=1&px=1',\n",
    "    'https://www.naukri.com/job-listings-data-scientist-data-analyst-immediate-inflexion-analytix-private-limited-chennai-pune-bengaluru-bangalore-hyderabad-secunderabad-0-to-2-years-160221001218?src=jobsearchDesk&sid=16136320822119881&xp=1&px=1',\n",
    "    'https://www.naukri.com/job-listings-data-scientist-data-analyst-immediate-inflexion-analytix-private-limited-chennai-pune-bengaluru-bangalore-hyderabad-secunderabad-0-to-2-years-160221001218?src=jobsearchDesk&sid=16136320822119881&xp=1&px=1',\n",
    "    'https://www.naukri.com/job-listings-data-scientist-python-matlab-machine-learning-algorithms-wrackle-technologies-pvt-ltd-bengaluru-bangalore-3-to-8-years-080221905947?src=jobsearchDesk&sid=16136320822119881&xp=2&px=1',\n",
    "    'https://www.naukri.com/job-listings-lead-data-scientist-machine-learning-data-mining-wrackle-technologies-pvt-ltd-bengaluru-bangalore-6-to-11-years-080221900886?src=jobsearchDesk&sid=16136320822119881&xp=3&px=1',\n",
    "    'https://www.naukri.com/job-listings-opening-for-sr-data-scientist-tech-mahindra-tech-mahindra-ltd-pune-bengaluru-bangalore-12-to-20-years-100221001125?src=jobsearchDesk&sid=16136320822119881&xp=5&px=1',\n",
    "    'https://www.naukri.com/job-listings-opening-for-sr-data-scientist-tech-mahindra-tech-mahindra-ltd-pune-bengaluru-bangalore-12-to-20-years-090221006526?src=jobsearchDesk&sid=16136320822119881&xp=6&px=1',\n",
    "    'https://www.naukri.com/job-listings-senior-data-scientist-nlp-python-r-avi-consulting-llp-bengaluru-bangalore-hyderabad-secunderabad-4-to-9-years-081220907155?src=jobsearchDesk&sid=16136320822119881&xp=7&px=1',\n",
    "    'https://www.naukri.com/job-listings-senior-data-scientist-ces-it-ltd-cmmi-level-5-ces-ltd-chennai-pune-delhi-ncr-mumbai-bengaluru-bangalore-hyderabad-secunderabad-kolkata-2-to-7-years-151220006902?src=jobsearchDesk&sid=16136320822119881&xp=8&px=1']"
   ]
  },
  {
   "cell_type": "code",
   "execution_count": 124,
   "metadata": {},
   "outputs": [
    {
     "data": {
      "text/plain": [
       "['Job description\\nDear Candidate\\nSchedule a Telephonic Interview ( Please call for confirmation) : Mon- Sat from 11:00am to 5:00pm only.\\nOR Walk-In to the Corporate office between Monday to Friday from 11:00am to 5:00pm\\nContact person :\\n\\nManigandan -+91 7299917200\\nShantha +91 9790993237\\nAishwaria 9427329576\\nGreetings from CAIA !\\nA great opportunity to enter the world of future technologies - Data Science, Analytics, AI, Data Visualization\\nApplications invited from all Freshers and experienced candidates aspiring to make a career in Artificial Intelligence and Advanced Analytics and Data Science.\\nIn case you are trying to shift your career to Analytics and/or AI domain please do connect with us to know more.\\nWhat is needed from you?\\n- An Educational background in any one of the following- BE/B.Tech, ME/M Tech, MSc, BSc/MSc Maths and Statistics, B Com, BCA, BSc CS, BSC IT, MSC IT, MCA\\n- Skills relating to Mathematics/Statistics.\\n- Natural passion towards numbers, business, coding, Analytics and Artificial Intelligence, Machine Learning, visualization\\n- Good verbal and written communication skills\\n- Ability to understand domains in businesses across various sectors\\n- Freshers who wish to start their career in Analytics and AI and professionals who wish to up skill or change their domain to analytics and emerging technologies are free to apply.\\nSelection procedure includes\\n- Online Aptitude Test\\n- Logical Ability Test / Written Test\\nOn being shortlisted, you will be have to undergo a one-one discussion with our counsellor for further evaluation and processing of your Resume.\\nWhat you can expect from us?\\nYou will get trained on the following modules for a period of 12-14 weeks:\\n-SQL & PLSQL\\n-Data Wrangling using Python\\n-Statistics for Machine Learning,\\n-Artificial Intelligence, Data Interpretation\\n-Supervised & Unsupervised Learning,\\n-NLP & Deep Learning\\n-Cloud Data Lake\\n-Business intelligence & Data Visualization\\n-Simulation Projects\\nWhat is the expected Outcome?\\nAt the end of the Training you are expected to be well versed with the following:\\n- Analysis of large and complex data sets from multiple sources\\n- Development and evaluation of data analytics models, algorithms and solutions\\n- Understanding/implementation of ML algorithms, performance tuning and reporting\\n- Implementation of algorithms to mine targeted data and the ability to convert data into a business story\\n- Translation of business requirements into technical requirements; Data extraction, preparation and transformation\\n- Identification, development and implementation of statistical techniques and algorithms that address business challenges and adds value to the organisation\\n- Requirement Analysis and communication of findings in the form of a meaningful story with the stakeholders\\nCenter for Artificial Intelligence & Advanced Analytics (CAIA) focuses on the following:\\n1. Global Research on emerging trends, technologies and applications in AI and Advanced Analytics\\n2. Advanced Training programs for readying the future ready workforce\\n3. Solutions to herald the futuristic lifestyle and workspaces in the field of AI and Data Science.\\nhttp://www.centerforaia.com/\\nCenter for Artificial Intelligence and Advanced Analytics (Center for AIA) is the brainchild of experienced and visionary alumni of IIT Madras and Bombay. Digital leaders 5F World and Systech Solutions have joined hands to create a venture for architecting the future of society, workforce, governments and businesses. 5F World specializes in designing solutions around digital platforms and Systech Solutions has an expertise in architecting Artificial Intelligence and Advanced Analytics solutions for Fortune 500 companies through specialized programmed.\\n5F World\\n5F World is a leader in digital transformational journeys and has brought together the best minds in industry, academia and technology domains to develop a unique framework to transform stakeholder journeys through innovation and digitalization of businesses and education institutions.\\nSystech Solutions\\nSystech Solutions is a leading organisation in Data Strategy, Management & Analytics services provider with deep technology expertise and over 20 years of industry experience. Systech Solutions helps empower clients with innovative, data-driven solutions to reimagine their enterprise and has forged partnerships with industry-leading technology providers to develop a full spectrum of data services.\\n\\nWebsite\\nhttp://www.centerforaia.com/\\n\\nhttps://inflexion-analytix-private-limited.business.site/?m=true\\n\\n\\n\\nContact Person\\nManigandan /Shantha/Aishwaria\\nPhone Number\\n7299917200/ 9790993237 / 9427329576\\nEmail\\nmanigandan@centerforaia.com',\n",
       " 'Job description\\nDear Candidate\\nSchedule a Telephonic Interview ( Please call for confirmation) : Mon- Sat from 11:00am to 5:00pm only.\\nOR Walk-In to the Corporate office between Monday to Friday from 11:00am to 5:00pm\\nContact person :\\n\\nManigandan -+91 7299917200\\nShantha +91 9790993237\\nAishwaria 9427329576\\nGreetings from CAIA !\\nA great opportunity to enter the world of future technologies - Data Science, Analytics, AI, Data Visualization\\nApplications invited from all Freshers and experienced candidates aspiring to make a career in Artificial Intelligence and Advanced Analytics and Data Science.\\nIn case you are trying to shift your career to Analytics and/or AI domain please do connect with us to know more.\\nWhat is needed from you?\\n- An Educational background in any one of the following- BE/B.Tech, ME/M Tech, MSc, BSc/MSc Maths and Statistics, B Com, BCA, BSc CS, BSC IT, MSC IT, MCA\\n- Skills relating to Mathematics/Statistics.\\n- Natural passion towards numbers, business, coding, Analytics and Artificial Intelligence, Machine Learning, visualization\\n- Good verbal and written communication skills\\n- Ability to understand domains in businesses across various sectors\\n- Freshers who wish to start their career in Analytics and AI and professionals who wish to up skill or change their domain to analytics and emerging technologies are free to apply.\\nSelection procedure includes\\n- Online Aptitude Test\\n- Logical Ability Test / Written Test\\nOn being shortlisted, you will be have to undergo a one-one discussion with our counsellor for further evaluation and processing of your Resume.\\nWhat you can expect from us?\\nYou will get trained on the following modules for a period of 12-14 weeks:\\n-SQL & PLSQL\\n-Data Wrangling using Python\\n-Statistics for Machine Learning,\\n-Artificial Intelligence, Data Interpretation\\n-Supervised & Unsupervised Learning,\\n-NLP & Deep Learning\\n-Cloud Data Lake\\n-Business intelligence & Data Visualization\\n-Simulation Projects\\nWhat is the expected Outcome?\\nAt the end of the Training you are expected to be well versed with the following:\\n- Analysis of large and complex data sets from multiple sources\\n- Development and evaluation of data analytics models, algorithms and solutions\\n- Understanding/implementation of ML algorithms, performance tuning and reporting\\n- Implementation of algorithms to mine targeted data and the ability to convert data into a business story\\n- Translation of business requirements into technical requirements; Data extraction, preparation and transformation\\n- Identification, development and implementation of statistical techniques and algorithms that address business challenges and adds value to the organisation\\n- Requirement Analysis and communication of findings in the form of a meaningful story with the stakeholders\\nCenter for Artificial Intelligence & Advanced Analytics (CAIA) focuses on the following:\\n1. Global Research on emerging trends, technologies and applications in AI and Advanced Analytics\\n2. Advanced Training programs for readying the future ready workforce\\n3. Solutions to herald the futuristic lifestyle and workspaces in the field of AI and Data Science.\\nhttp://www.centerforaia.com/\\nCenter for Artificial Intelligence and Advanced Analytics (Center for AIA) is the brainchild of experienced and visionary alumni of IIT Madras and Bombay. Digital leaders 5F World and Systech Solutions have joined hands to create a venture for architecting the future of society, workforce, governments and businesses. 5F World specializes in designing solutions around digital platforms and Systech Solutions has an expertise in architecting Artificial Intelligence and Advanced Analytics solutions for Fortune 500 companies through specialized programmed.\\n5F World\\n5F World is a leader in digital transformational journeys and has brought together the best minds in industry, academia and technology domains to develop a unique framework to transform stakeholder journeys through innovation and digitalization of businesses and education institutions.\\nSystech Solutions\\nSystech Solutions is a leading organisation in Data Strategy, Management & Analytics services provider with deep technology expertise and over 20 years of industry experience. Systech Solutions helps empower clients with innovative, data-driven solutions to reimagine their enterprise and has forged partnerships with industry-leading technology providers to develop a full spectrum of data services.\\n\\nWebsite\\nhttp://www.centerforaia.com/\\n\\nhttps://inflexion-analytix-private-limited.business.site/?m=true\\n\\n\\n\\nContact Person\\nManigandan /Shantha/Aishwaria\\nPhone Number\\n7299917200/ 9790993237 / 9427329576\\nEmail\\nmanigandan@centerforaia.com',\n",
       " 'Job description\\nDear Candidate\\nSchedule a Telephonic Interview ( Please call for confirmation) : Mon- Sat from 11:00am to 5:00pm only.\\nOR Walk-In to the Corporate office between Monday to Friday from 11:00am to 5:00pm\\nContact person :\\n\\nManigandan -+91 7299917200\\nShantha +91 9790993237\\nAishwaria 9427329576\\nGreetings from CAIA !\\nA great opportunity to enter the world of future technologies - Data Science, Analytics, AI, Data Visualization\\nApplications invited from all Freshers and experienced candidates aspiring to make a career in Artificial Intelligence and Advanced Analytics and Data Science.\\nIn case you are trying to shift your career to Analytics and/or AI domain please do connect with us to know more.\\nWhat is needed from you?\\n- An Educational background in any one of the following- BE/B.Tech, ME/M Tech, MSc, BSc/MSc Maths and Statistics, B Com, BCA, BSc CS, BSC IT, MSC IT, MCA\\n- Skills relating to Mathematics/Statistics.\\n- Natural passion towards numbers, business, coding, Analytics and Artificial Intelligence, Machine Learning, visualization\\n- Good verbal and written communication skills\\n- Ability to understand domains in businesses across various sectors\\n- Freshers who wish to start their career in Analytics and AI and professionals who wish to up skill or change their domain to analytics and emerging technologies are free to apply.\\nSelection procedure includes\\n- Online Aptitude Test\\n- Logical Ability Test / Written Test\\nOn being shortlisted, you will be have to undergo a one-one discussion with our counsellor for further evaluation and processing of your Resume.\\nWhat you can expect from us?\\nYou will get trained on the following modules for a period of 12-14 weeks:\\n-SQL & PLSQL\\n-Data Wrangling using Python\\n-Statistics for Machine Learning,\\n-Artificial Intelligence, Data Interpretation\\n-Supervised & Unsupervised Learning,\\n-NLP & Deep Learning\\n-Cloud Data Lake\\n-Business intelligence & Data Visualization\\n-Simulation Projects\\nWhat is the expected Outcome?\\nAt the end of the Training you are expected to be well versed with the following:\\n- Analysis of large and complex data sets from multiple sources\\n- Development and evaluation of data analytics models, algorithms and solutions\\n- Understanding/implementation of ML algorithms, performance tuning and reporting\\n- Implementation of algorithms to mine targeted data and the ability to convert data into a business story\\n- Translation of business requirements into technical requirements; Data extraction, preparation and transformation\\n- Identification, development and implementation of statistical techniques and algorithms that address business challenges and adds value to the organisation\\n- Requirement Analysis and communication of findings in the form of a meaningful story with the stakeholders\\nCenter for Artificial Intelligence & Advanced Analytics (CAIA) focuses on the following:\\n1. Global Research on emerging trends, technologies and applications in AI and Advanced Analytics\\n2. Advanced Training programs for readying the future ready workforce\\n3. Solutions to herald the futuristic lifestyle and workspaces in the field of AI and Data Science.\\nhttp://www.centerforaia.com/\\nCenter for Artificial Intelligence and Advanced Analytics (Center for AIA) is the brainchild of experienced and visionary alumni of IIT Madras and Bombay. Digital leaders 5F World and Systech Solutions have joined hands to create a venture for architecting the future of society, workforce, governments and businesses. 5F World specializes in designing solutions around digital platforms and Systech Solutions has an expertise in architecting Artificial Intelligence and Advanced Analytics solutions for Fortune 500 companies through specialized programmed.\\n5F World\\n5F World is a leader in digital transformational journeys and has brought together the best minds in industry, academia and technology domains to develop a unique framework to transform stakeholder journeys through innovation and digitalization of businesses and education institutions.\\nSystech Solutions\\nSystech Solutions is a leading organisation in Data Strategy, Management & Analytics services provider with deep technology expertise and over 20 years of industry experience. Systech Solutions helps empower clients with innovative, data-driven solutions to reimagine their enterprise and has forged partnerships with industry-leading technology providers to develop a full spectrum of data services.\\n\\nWebsite\\nhttp://www.centerforaia.com/\\n\\nhttps://inflexion-analytix-private-limited.business.site/?m=true\\n\\n\\n\\nContact Person\\nManigandan /Shantha/Aishwaria\\nPhone Number\\n7299917200/ 9790993237 / 9427329576\\nEmail\\nmanigandan@centerforaia.com',\n",
       " 'Data Scientist - Data Mining/ Machine Learning/ Statistical Analysis\\n\\nRequirements :\\n\\n- 3-9 years of strong experience in data mining, machine learning, and statistical analysis.\\n\\n- BS/MS/Ph.D. in Computer Science, Statistics, Applied Math, or related areas from Premier institutes ( only IITs / IISc / BITS / Top NITs or top US university should apply)\\n\\n- Ability to lead and deliver in a fast-paced start-up environment.\\n\\n- Fluency in tools such as Matlab, Python, etc.\\n\\n- Strong intuition for data and Keen aptitude on large scale data analysis\\n\\n- Excellent written and verbal communication skills.\\n\\n- Ability to collaborate across teams and strong interpersonal skills.',\n",
       " 'Roles and Responsibilities\\nRequirements :\\n\\n- 6-9 years of strong experience in data mining, machine learning and statistical analysis.\\n\\n- BS/ MS/ PhD in Computer Science, Statistics, Applied Math, or related areas from Premier institutes ( only IITs / IISc / BITS / Top NITs or top US university should apply)\\n\\n- Ability to lead and deliver in a fast-paced start-up environment.\\n\\n- Fluency in tools such as Python/ R/ Matlab etc.\\n\\n- Strong intuition for data and Keen aptitude on large scale data analysis\\n\\n- Excellent written and verbal communication skills.\\n\\n- Ability to collaborate across teams and strong interpersonal skills.']"
      ]
     },
     "execution_count": 124,
     "metadata": {},
     "output_type": "execute_result"
    }
   ],
   "source": [
    "for i in url[0:5]:\n",
    "    driver.get(i)\n",
    "    desc=driver.find_element_by_xpath(\"//div[@class='dang-inner-html']\").text\n",
    "    desc=desc.strip()\n",
    "    job_description.append(desc)\n",
    "\n",
    "job_description"
   ]
  },
  {
   "cell_type": "code",
   "execution_count": 126,
   "metadata": {},
   "outputs": [],
   "source": [
    "# Top 10 data analyst jobs in bangalore\n",
    "\n",
    "jobs=pd.DataFrame({})\n",
    "jobs['Titles']=job_title[0:5]\n",
    "jobs['Location']=job_loc[0:5]\n",
    "jobs['Company']=company_name[0:5]\n",
    "jobs['Experience_required']=experience_req[0:5]\n",
    "jobs['job_description']=job_description[0:5]\n"
   ]
  },
  {
   "cell_type": "code",
   "execution_count": 127,
   "metadata": {},
   "outputs": [
    {
     "data": {
      "text/html": [
       "<div>\n",
       "<style scoped>\n",
       "    .dataframe tbody tr th:only-of-type {\n",
       "        vertical-align: middle;\n",
       "    }\n",
       "\n",
       "    .dataframe tbody tr th {\n",
       "        vertical-align: top;\n",
       "    }\n",
       "\n",
       "    .dataframe thead th {\n",
       "        text-align: right;\n",
       "    }\n",
       "</style>\n",
       "<table border=\"1\" class=\"dataframe\">\n",
       "  <thead>\n",
       "    <tr style=\"text-align: right;\">\n",
       "      <th></th>\n",
       "      <th>Titles</th>\n",
       "      <th>Location</th>\n",
       "      <th>Company</th>\n",
       "      <th>Experience_required</th>\n",
       "      <th>job_description</th>\n",
       "    </tr>\n",
       "  </thead>\n",
       "  <tbody>\n",
       "    <tr>\n",
       "      <th>0</th>\n",
       "      <td>Data Scientist/Data Analyst-immediate</td>\n",
       "      <td>Chennai, Pune, Bengaluru, Hyderabad</td>\n",
       "      <td>Inflexion Analytix Private Limited</td>\n",
       "      <td>0-2 Yrs</td>\n",
       "      <td>Job description\\nDear Candidate\\nSchedule a Te...</td>\n",
       "    </tr>\n",
       "    <tr>\n",
       "      <th>1</th>\n",
       "      <td>Data Scientist - Python/ MATLAB/ Machine Learn...</td>\n",
       "      <td>Bengaluru</td>\n",
       "      <td>Wrackle Technologies Pvt Ltd</td>\n",
       "      <td>3-8 Yrs</td>\n",
       "      <td>Job description\\nDear Candidate\\nSchedule a Te...</td>\n",
       "    </tr>\n",
       "    <tr>\n",
       "      <th>2</th>\n",
       "      <td>Lead Data Scientist - Machine Learning/ Data M...</td>\n",
       "      <td>Bengaluru</td>\n",
       "      <td>Wrackle Technologies Pvt Ltd</td>\n",
       "      <td>6-11 Yrs</td>\n",
       "      <td>Job description\\nDear Candidate\\nSchedule a Te...</td>\n",
       "    </tr>\n",
       "    <tr>\n",
       "      <th>3</th>\n",
       "      <td>Data Scientist - Machine Learning (Commerce BU)</td>\n",
       "      <td>Bengaluru</td>\n",
       "      <td>BLUE YONDER INDIA PRIVATE LIMITED</td>\n",
       "      <td>2-7 Yrs</td>\n",
       "      <td>Data Scientist - Data Mining/ Machine Learning...</td>\n",
       "    </tr>\n",
       "    <tr>\n",
       "      <th>4</th>\n",
       "      <td>Opening For Sr. Data Scientist @ Tech Mahindra</td>\n",
       "      <td>Pune, Bengaluru</td>\n",
       "      <td>Tech Mahindra Ltd.</td>\n",
       "      <td>12-20 Yrs</td>\n",
       "      <td>Roles and Responsibilities\\nRequirements :\\n\\n...</td>\n",
       "    </tr>\n",
       "  </tbody>\n",
       "</table>\n",
       "</div>"
      ],
      "text/plain": [
       "                                              Titles  \\\n",
       "0              Data Scientist/Data Analyst-immediate   \n",
       "1  Data Scientist - Python/ MATLAB/ Machine Learn...   \n",
       "2  Lead Data Scientist - Machine Learning/ Data M...   \n",
       "3    Data Scientist - Machine Learning (Commerce BU)   \n",
       "4     Opening For Sr. Data Scientist @ Tech Mahindra   \n",
       "\n",
       "                              Location                             Company  \\\n",
       "0  Chennai, Pune, Bengaluru, Hyderabad  Inflexion Analytix Private Limited   \n",
       "1                            Bengaluru        Wrackle Technologies Pvt Ltd   \n",
       "2                            Bengaluru        Wrackle Technologies Pvt Ltd   \n",
       "3                            Bengaluru   BLUE YONDER INDIA PRIVATE LIMITED   \n",
       "4                      Pune, Bengaluru                  Tech Mahindra Ltd.   \n",
       "\n",
       "  Experience_required                                    job_description  \n",
       "0             0-2 Yrs  Job description\\nDear Candidate\\nSchedule a Te...  \n",
       "1             3-8 Yrs  Job description\\nDear Candidate\\nSchedule a Te...  \n",
       "2            6-11 Yrs  Job description\\nDear Candidate\\nSchedule a Te...  \n",
       "3             2-7 Yrs  Data Scientist - Data Mining/ Machine Learning...  \n",
       "4           12-20 Yrs  Roles and Responsibilities\\nRequirements :\\n\\n...  "
      ]
     },
     "execution_count": 127,
     "metadata": {},
     "output_type": "execute_result"
    }
   ],
   "source": [
    "jobs"
   ]
  },
  {
   "cell_type": "code",
   "execution_count": null,
   "metadata": {},
   "outputs": [],
   "source": []
  },
  {
   "cell_type": "markdown",
   "metadata": {},
   "source": [
    "# 3 scrapping of datascientist jobs apply filter location and salary"
   ]
  },
  {
   "cell_type": "code",
   "execution_count": 35,
   "metadata": {},
   "outputs": [],
   "source": [
    "# connect to website using web driver\n",
    "driver.get('http://www.naukri.com')"
   ]
  },
  {
   "cell_type": "code",
   "execution_count": 36,
   "metadata": {},
   "outputs": [],
   "source": [
    "# searching for key words\n",
    "search_job=driver.find_element_by_id('qsb-keyword-sugg')\n",
    "search_job.send_keys('Data Scientist')"
   ]
  },
  {
   "cell_type": "code",
   "execution_count": 37,
   "metadata": {},
   "outputs": [],
   "source": [
    "#searching button\n",
    "search=driver.find_element_by_xpath(\"//div[@class='search-btn']/button\")"
   ]
  },
  {
   "cell_type": "code",
   "execution_count": 38,
   "metadata": {},
   "outputs": [],
   "source": [
    "search.click()"
   ]
  },
  {
   "cell_type": "code",
   "execution_count": 40,
   "metadata": {},
   "outputs": [],
   "source": [
    "# filtering for delhi ncr\n",
    "tik_loc=driver.find_element_by_xpath(\"//div[@data-filter-id='cities']/div[2]\")"
   ]
  },
  {
   "cell_type": "code",
   "execution_count": 41,
   "metadata": {},
   "outputs": [],
   "source": [
    "tik_loc.click()"
   ]
  },
  {
   "cell_type": "code",
   "execution_count": 42,
   "metadata": {},
   "outputs": [],
   "source": [
    "#filter for salary 3-6 lakhs\n",
    "tik_sal=driver.find_element_by_xpath(\"//div[2][@data-filter-id='salaryRange']/div[2]\")"
   ]
  },
  {
   "cell_type": "code",
   "execution_count": 43,
   "metadata": {},
   "outputs": [],
   "source": [
    "tik_sal.click()"
   ]
  },
  {
   "cell_type": "code",
   "execution_count": 45,
   "metadata": {},
   "outputs": [],
   "source": [
    "# specifying url of the webpage to be scraped\n",
    "ur='https://www.naukri.com/data-scientist-jobs?k=data%20scientist&cityType=25.9.31&ctcFilter=3to6'"
   ]
  },
  {
   "cell_type": "code",
   "execution_count": 46,
   "metadata": {},
   "outputs": [],
   "source": [
    "# open webpage with web driver\n",
    "driver.get(ur)"
   ]
  },
  {
   "cell_type": "code",
   "execution_count": 47,
   "metadata": {},
   "outputs": [],
   "source": [
    "# creating empty lists to append scrapped data\n",
    "job_title=[]\n",
    "job_loc=[]\n",
    "company_name=[]\n",
    "experience_req=[]"
   ]
  },
  {
   "cell_type": "code",
   "execution_count": 48,
   "metadata": {},
   "outputs": [
    {
     "data": {
      "text/plain": [
       "[<selenium.webdriver.remote.webelement.WebElement (session=\"f2c2059913df7b0b0fc69ac617c6e92b\", element=\"3f6b2149-c912-454b-9422-e1d7adf84969\")>,\n",
       " <selenium.webdriver.remote.webelement.WebElement (session=\"f2c2059913df7b0b0fc69ac617c6e92b\", element=\"49b8c6f1-f1d1-41f5-b343-8d60fd23ca2b\")>,\n",
       " <selenium.webdriver.remote.webelement.WebElement (session=\"f2c2059913df7b0b0fc69ac617c6e92b\", element=\"68d2531f-f6ed-4597-b969-581ddbf6f161\")>,\n",
       " <selenium.webdriver.remote.webelement.WebElement (session=\"f2c2059913df7b0b0fc69ac617c6e92b\", element=\"fdaecf3e-6cf1-4223-af8a-1c5d30c7db1a\")>,\n",
       " <selenium.webdriver.remote.webelement.WebElement (session=\"f2c2059913df7b0b0fc69ac617c6e92b\", element=\"e9dbd460-f365-4821-89f9-15e024ff8a58\")>]"
      ]
     },
     "execution_count": 48,
     "metadata": {},
     "output_type": "execute_result"
    }
   ],
   "source": [
    "# scraping job titles\n",
    "title_tags=driver.find_elements_by_xpath(\"//a[@class='title fw500 ellipsis']\")\n",
    "title_tags[0:5]"
   ]
  },
  {
   "cell_type": "code",
   "execution_count": 49,
   "metadata": {},
   "outputs": [
    {
     "data": {
      "text/plain": [
       "['Data Scientist',\n",
       " 'Data Scientist',\n",
       " 'Senior Data Scientist - Computer Vision',\n",
       " 'Data Scientist - Machine Learning/ NLP',\n",
       " 'Only Fresher / Data Scientist / Data Analyst / Analytics - MNC']"
      ]
     },
     "execution_count": 49,
     "metadata": {},
     "output_type": "execute_result"
    }
   ],
   "source": [
    "# extracting text from above tags\n",
    "\n",
    "for i in title_tags:\n",
    "    title=i.text\n",
    "    job_title.append(title)\n",
    "    \n",
    "job_title[0:5]"
   ]
  },
  {
   "cell_type": "code",
   "execution_count": 50,
   "metadata": {},
   "outputs": [
    {
     "data": {
      "text/plain": [
       "[<selenium.webdriver.remote.webelement.WebElement (session=\"f2c2059913df7b0b0fc69ac617c6e92b\", element=\"2b40e5fc-b5bc-451b-afac-3187550cb661\")>,\n",
       " <selenium.webdriver.remote.webelement.WebElement (session=\"f2c2059913df7b0b0fc69ac617c6e92b\", element=\"623709d7-3ac2-4eb3-834f-ac2cfb03e8a1\")>,\n",
       " <selenium.webdriver.remote.webelement.WebElement (session=\"f2c2059913df7b0b0fc69ac617c6e92b\", element=\"0c47a0b1-3c85-4b78-960d-c52c4b85650d\")>,\n",
       " <selenium.webdriver.remote.webelement.WebElement (session=\"f2c2059913df7b0b0fc69ac617c6e92b\", element=\"7c54e25c-a2ee-4abf-958d-82d6ac2ec55e\")>,\n",
       " <selenium.webdriver.remote.webelement.WebElement (session=\"f2c2059913df7b0b0fc69ac617c6e92b\", element=\"97617f60-c553-4731-aa20-9dfd84d497bb\")>]"
      ]
     },
     "execution_count": 50,
     "metadata": {},
     "output_type": "execute_result"
    }
   ],
   "source": [
    "# scrapping job location\n",
    "loc_tag=driver.find_elements_by_xpath(\"//li[@class='fleft grey-text br2 placeHolderLi location']/span[1]\")\n",
    "loc_tag[0:5]"
   ]
  },
  {
   "cell_type": "code",
   "execution_count": 51,
   "metadata": {},
   "outputs": [
    {
     "data": {
      "text/plain": [
       "['Ghaziabad, Bhopal, Lucknow, Kanpur, Rajkot, Bengaluru, Gurgaon, Agra, Bharuch, Jaunpur, Nagpur, Delhi, Mumbai, Jaipur, Jhansi',\n",
       " 'Gurgaon Gurugram',\n",
       " 'Delhi NCR',\n",
       " 'Gurgaon Gurugram',\n",
       " 'Delhi NCR, Noida, Gurgaon']"
      ]
     },
     "execution_count": 51,
     "metadata": {},
     "output_type": "execute_result"
    }
   ],
   "source": [
    "for i in loc_tag:\n",
    "    location=i.text\n",
    "    job_loc.append(location)\n",
    "    \n",
    "    \n",
    "job_loc[0:5]"
   ]
  },
  {
   "cell_type": "code",
   "execution_count": 52,
   "metadata": {},
   "outputs": [
    {
     "data": {
      "text/plain": [
       "[<selenium.webdriver.remote.webelement.WebElement (session=\"f2c2059913df7b0b0fc69ac617c6e92b\", element=\"372c286a-03be-427d-a65b-606a66ea11a3\")>,\n",
       " <selenium.webdriver.remote.webelement.WebElement (session=\"f2c2059913df7b0b0fc69ac617c6e92b\", element=\"4678f4ad-48f6-458e-ba7f-34f88b844101\")>,\n",
       " <selenium.webdriver.remote.webelement.WebElement (session=\"f2c2059913df7b0b0fc69ac617c6e92b\", element=\"9f6c711f-4ba7-44f8-b1df-d591b621faf9\")>,\n",
       " <selenium.webdriver.remote.webelement.WebElement (session=\"f2c2059913df7b0b0fc69ac617c6e92b\", element=\"a38406f4-5738-4ec3-adc8-be805e63115e\")>,\n",
       " <selenium.webdriver.remote.webelement.WebElement (session=\"f2c2059913df7b0b0fc69ac617c6e92b\", element=\"67ab6d2a-31f4-4eb9-9b15-ed72878863d4\")>]"
      ]
     },
     "execution_count": 52,
     "metadata": {},
     "output_type": "execute_result"
    }
   ],
   "source": [
    "# scrapping company names\n",
    "\n",
    "company_tag=driver.find_elements_by_xpath(\"//a[@class='subTitle ellipsis fleft']\")\n",
    "company_tag[0:5]"
   ]
  },
  {
   "cell_type": "code",
   "execution_count": 53,
   "metadata": {},
   "outputs": [
    {
     "data": {
      "text/plain": [
       "['Country Veggie',\n",
       " 'IBM India Pvt. Limited',\n",
       " 'IRIS SOFTWARE Inc',\n",
       " 'TalPro',\n",
       " 'GABA Consultancy services']"
      ]
     },
     "execution_count": 53,
     "metadata": {},
     "output_type": "execute_result"
    }
   ],
   "source": [
    "for i in company_tag:\n",
    "    company=i.text\n",
    "    company_name.append(company)\n",
    "    \n",
    "company_name[0:5]"
   ]
  },
  {
   "cell_type": "code",
   "execution_count": 54,
   "metadata": {},
   "outputs": [
    {
     "data": {
      "text/plain": [
       "[<selenium.webdriver.remote.webelement.WebElement (session=\"f2c2059913df7b0b0fc69ac617c6e92b\", element=\"4810e627-0291-49ba-bd1f-bf88c5d4046f\")>,\n",
       " <selenium.webdriver.remote.webelement.WebElement (session=\"f2c2059913df7b0b0fc69ac617c6e92b\", element=\"19c0475b-cb3a-4603-84a6-1fb0ed643594\")>,\n",
       " <selenium.webdriver.remote.webelement.WebElement (session=\"f2c2059913df7b0b0fc69ac617c6e92b\", element=\"91c17558-c5c7-4de9-b78c-e3084504a02f\")>,\n",
       " <selenium.webdriver.remote.webelement.WebElement (session=\"f2c2059913df7b0b0fc69ac617c6e92b\", element=\"f329b797-479c-4f30-9b29-15c57a2c70ab\")>,\n",
       " <selenium.webdriver.remote.webelement.WebElement (session=\"f2c2059913df7b0b0fc69ac617c6e92b\", element=\"4645c3ee-7238-48c7-b90c-7f3a997c1b05\")>]"
      ]
     },
     "execution_count": 54,
     "metadata": {},
     "output_type": "execute_result"
    }
   ],
   "source": [
    "# scrapping experince\n",
    "\n",
    "exp_tag=driver.find_elements_by_xpath(\"//li[@class='fleft grey-text br2 placeHolderLi experience']/span[1]\")\n",
    "exp_tag[0:5]"
   ]
  },
  {
   "cell_type": "code",
   "execution_count": 55,
   "metadata": {},
   "outputs": [
    {
     "data": {
      "text/plain": [
       "['1-3 Yrs', '4-8 Yrs', '4-9 Yrs', '2-6 Yrs', '0-0 Yrs']"
      ]
     },
     "execution_count": 55,
     "metadata": {},
     "output_type": "execute_result"
    }
   ],
   "source": [
    "for i in exp_tag:\n",
    "    exp=i.text\n",
    "    experience_req.append(exp)\n",
    "    \n",
    "experience_req[0:5]"
   ]
  },
  {
   "cell_type": "code",
   "execution_count": 56,
   "metadata": {},
   "outputs": [
    {
     "name": "stdout",
     "output_type": "stream",
     "text": [
      "20 20 20 20\n"
     ]
    }
   ],
   "source": [
    "print(len(job_title),len(job_loc),len(company_name),len(experience_req))"
   ]
  },
  {
   "cell_type": "code",
   "execution_count": 57,
   "metadata": {},
   "outputs": [],
   "source": [
    "# Top 10 data analyst jobs delhi/NCR and 3 to 6 lakhs salary\n",
    "\n",
    "jobs=pd.DataFrame({})\n",
    "jobs['Titles']=job_title[0:10]\n",
    "jobs['Location']=job_loc[0:10]\n",
    "jobs['Company']=company_name[0:10]\n",
    "jobs['Experience_required']=experience_req[0:10]"
   ]
  },
  {
   "cell_type": "code",
   "execution_count": 58,
   "metadata": {
    "scrolled": true
   },
   "outputs": [
    {
     "data": {
      "text/html": [
       "<div>\n",
       "<style scoped>\n",
       "    .dataframe tbody tr th:only-of-type {\n",
       "        vertical-align: middle;\n",
       "    }\n",
       "\n",
       "    .dataframe tbody tr th {\n",
       "        vertical-align: top;\n",
       "    }\n",
       "\n",
       "    .dataframe thead th {\n",
       "        text-align: right;\n",
       "    }\n",
       "</style>\n",
       "<table border=\"1\" class=\"dataframe\">\n",
       "  <thead>\n",
       "    <tr style=\"text-align: right;\">\n",
       "      <th></th>\n",
       "      <th>Titles</th>\n",
       "      <th>Location</th>\n",
       "      <th>Company</th>\n",
       "      <th>Experience_required</th>\n",
       "    </tr>\n",
       "  </thead>\n",
       "  <tbody>\n",
       "    <tr>\n",
       "      <th>0</th>\n",
       "      <td>Data Scientist</td>\n",
       "      <td>Ghaziabad, Bhopal, Lucknow, Kanpur, Rajkot, Be...</td>\n",
       "      <td>Country Veggie</td>\n",
       "      <td>1-3 Yrs</td>\n",
       "    </tr>\n",
       "    <tr>\n",
       "      <th>1</th>\n",
       "      <td>Data Scientist</td>\n",
       "      <td>Gurgaon Gurugram</td>\n",
       "      <td>IBM India Pvt. Limited</td>\n",
       "      <td>4-8 Yrs</td>\n",
       "    </tr>\n",
       "    <tr>\n",
       "      <th>2</th>\n",
       "      <td>Senior Data Scientist - Computer Vision</td>\n",
       "      <td>Delhi NCR</td>\n",
       "      <td>IRIS SOFTWARE Inc</td>\n",
       "      <td>4-9 Yrs</td>\n",
       "    </tr>\n",
       "    <tr>\n",
       "      <th>3</th>\n",
       "      <td>Data Scientist - Machine Learning/ NLP</td>\n",
       "      <td>Gurgaon Gurugram</td>\n",
       "      <td>TalPro</td>\n",
       "      <td>2-6 Yrs</td>\n",
       "    </tr>\n",
       "    <tr>\n",
       "      <th>4</th>\n",
       "      <td>Only Fresher / Data Scientist / Data Analyst /...</td>\n",
       "      <td>Delhi NCR, Noida, Gurgaon</td>\n",
       "      <td>GABA Consultancy services</td>\n",
       "      <td>0-0 Yrs</td>\n",
       "    </tr>\n",
       "    <tr>\n",
       "      <th>5</th>\n",
       "      <td>Data Scientist - Tableau/Power BI</td>\n",
       "      <td>Delhi</td>\n",
       "      <td>Talent Stock Solutions</td>\n",
       "      <td>1-3 Yrs</td>\n",
       "    </tr>\n",
       "    <tr>\n",
       "      <th>6</th>\n",
       "      <td>GCP Skilled Analytics Resources (Data engineer...</td>\n",
       "      <td>Pune, Bengaluru, Gurgaon</td>\n",
       "      <td>Aerial Telecom Solutions Pvt. Ltd.</td>\n",
       "      <td>3-8 Yrs</td>\n",
       "    </tr>\n",
       "    <tr>\n",
       "      <th>7</th>\n",
       "      <td>Data Scientist - Python/Machine Learning</td>\n",
       "      <td>Noida</td>\n",
       "      <td>Jubna</td>\n",
       "      <td>5-8 Yrs</td>\n",
       "    </tr>\n",
       "    <tr>\n",
       "      <th>8</th>\n",
       "      <td>Data Scientist - IT</td>\n",
       "      <td>Gurgaon</td>\n",
       "      <td>Ehireo</td>\n",
       "      <td>4-9 Yrs</td>\n",
       "    </tr>\n",
       "    <tr>\n",
       "      <th>9</th>\n",
       "      <td>Data Scientist Machine Learning</td>\n",
       "      <td>Gurgaon</td>\n",
       "      <td>Delhivery</td>\n",
       "      <td>1-3 Yrs</td>\n",
       "    </tr>\n",
       "  </tbody>\n",
       "</table>\n",
       "</div>"
      ],
      "text/plain": [
       "                                              Titles  \\\n",
       "0                                     Data Scientist   \n",
       "1                                     Data Scientist   \n",
       "2            Senior Data Scientist - Computer Vision   \n",
       "3             Data Scientist - Machine Learning/ NLP   \n",
       "4  Only Fresher / Data Scientist / Data Analyst /...   \n",
       "5                  Data Scientist - Tableau/Power BI   \n",
       "6  GCP Skilled Analytics Resources (Data engineer...   \n",
       "7           Data Scientist - Python/Machine Learning   \n",
       "8                                Data Scientist - IT   \n",
       "9                    Data Scientist Machine Learning   \n",
       "\n",
       "                                            Location  \\\n",
       "0  Ghaziabad, Bhopal, Lucknow, Kanpur, Rajkot, Be...   \n",
       "1                                   Gurgaon Gurugram   \n",
       "2                                          Delhi NCR   \n",
       "3                                   Gurgaon Gurugram   \n",
       "4                          Delhi NCR, Noida, Gurgaon   \n",
       "5                                              Delhi   \n",
       "6                           Pune, Bengaluru, Gurgaon   \n",
       "7                                              Noida   \n",
       "8                                            Gurgaon   \n",
       "9                                            Gurgaon   \n",
       "\n",
       "                              Company Experience_required  \n",
       "0                      Country Veggie             1-3 Yrs  \n",
       "1              IBM India Pvt. Limited             4-8 Yrs  \n",
       "2                   IRIS SOFTWARE Inc             4-9 Yrs  \n",
       "3                              TalPro             2-6 Yrs  \n",
       "4           GABA Consultancy services             0-0 Yrs  \n",
       "5              Talent Stock Solutions             1-3 Yrs  \n",
       "6  Aerial Telecom Solutions Pvt. Ltd.             3-8 Yrs  \n",
       "7                               Jubna             5-8 Yrs  \n",
       "8                              Ehireo             4-9 Yrs  \n",
       "9                           Delhivery             1-3 Yrs  "
      ]
     },
     "execution_count": 58,
     "metadata": {},
     "output_type": "execute_result"
    }
   ],
   "source": [
    "jobs"
   ]
  },
  {
   "cell_type": "markdown",
   "metadata": {},
   "source": [
    "# 6  Scrape data of first 100 sunglasses listings on flipkart"
   ]
  },
  {
   "cell_type": "code",
   "execution_count": 282,
   "metadata": {},
   "outputs": [],
   "source": [
    "driver.get('https://www.flipkart.com/')"
   ]
  },
  {
   "cell_type": "code",
   "execution_count": 283,
   "metadata": {},
   "outputs": [],
   "source": [
    "prod=driver.find_element_by_xpath(\"//div[@class='_3OO5Xc']/input\")"
   ]
  },
  {
   "cell_type": "code",
   "execution_count": 284,
   "metadata": {},
   "outputs": [],
   "source": [
    "prod.send_keys('sunglasess')"
   ]
  },
  {
   "cell_type": "code",
   "execution_count": 285,
   "metadata": {},
   "outputs": [],
   "source": [
    "search=driver.find_element_by_xpath(\"//button[@class='L0Z3Pu']\")"
   ]
  },
  {
   "cell_type": "code",
   "execution_count": 286,
   "metadata": {},
   "outputs": [],
   "source": [
    "search.submit()"
   ]
  },
  {
   "cell_type": "code",
   "execution_count": 287,
   "metadata": {},
   "outputs": [],
   "source": [
    "ur='https://www.flipkart.com/search?q=sunglasess&otracker=search&otracker1=search&marketplace=FLIPKART&as-show=on&as=off'"
   ]
  },
  {
   "cell_type": "code",
   "execution_count": 288,
   "metadata": {},
   "outputs": [],
   "source": [
    "driver.get(ur)"
   ]
  },
  {
   "cell_type": "code",
   "execution_count": 289,
   "metadata": {},
   "outputs": [],
   "source": [
    "brand=[]\n",
    "description=[]\n",
    "price=[]\n",
    "discount=[]"
   ]
  },
  {
   "cell_type": "code",
   "execution_count": null,
   "metadata": {},
   "outputs": [],
   "source": []
  },
  {
   "cell_type": "code",
   "execution_count": 290,
   "metadata": {},
   "outputs": [],
   "source": [
    "brand_tag=driver.find_elements_by_xpath(\"//div[@class='_2WkVRV']\")"
   ]
  },
  {
   "cell_type": "code",
   "execution_count": 291,
   "metadata": {},
   "outputs": [
    {
     "data": {
      "text/plain": [
       "[<selenium.webdriver.remote.webelement.WebElement (session=\"3b2a9eb2159952daacc658f405a60eae\", element=\"13662719-e593-431f-9a7d-c35edb0d2b7a\")>,\n",
       " <selenium.webdriver.remote.webelement.WebElement (session=\"3b2a9eb2159952daacc658f405a60eae\", element=\"9fce3c20-1247-4f36-91a4-c1a79ac852c8\")>,\n",
       " <selenium.webdriver.remote.webelement.WebElement (session=\"3b2a9eb2159952daacc658f405a60eae\", element=\"85ba2d38-18da-4871-a225-ad68b8ad9477\")>,\n",
       " <selenium.webdriver.remote.webelement.WebElement (session=\"3b2a9eb2159952daacc658f405a60eae\", element=\"acdb6e4e-44f4-4be9-a2d0-48c0b50e3b36\")>,\n",
       " <selenium.webdriver.remote.webelement.WebElement (session=\"3b2a9eb2159952daacc658f405a60eae\", element=\"aee0d2bf-38e2-45ff-9d4d-e4f2e2388e3f\")>]"
      ]
     },
     "execution_count": 291,
     "metadata": {},
     "output_type": "execute_result"
    }
   ],
   "source": [
    "brand_tag[0:5]"
   ]
  },
  {
   "cell_type": "code",
   "execution_count": 292,
   "metadata": {},
   "outputs": [],
   "source": [
    "for i in brand_tag:\n",
    "    item=i.text\n",
    "    \n",
    "    brand.append(item)"
   ]
  },
  {
   "cell_type": "code",
   "execution_count": 293,
   "metadata": {},
   "outputs": [
    {
     "data": {
      "text/plain": [
       "['Royal Son', 'Aislin', 'Fastrack', 'Fastrack', 'PIRASO']"
      ]
     },
     "execution_count": 293,
     "metadata": {},
     "output_type": "execute_result"
    }
   ],
   "source": [
    "brand[0:5]"
   ]
  },
  {
   "cell_type": "code",
   "execution_count": 294,
   "metadata": {},
   "outputs": [],
   "source": [
    "desc_tag=driver.find_elements_by_xpath(\"//div[@class='_2B099V']/a[1]\")"
   ]
  },
  {
   "cell_type": "code",
   "execution_count": 295,
   "metadata": {},
   "outputs": [
    {
     "data": {
      "text/plain": [
       "[<selenium.webdriver.remote.webelement.WebElement (session=\"3b2a9eb2159952daacc658f405a60eae\", element=\"6c4ef54f-8a49-4fa1-bdd6-229bb7ba5f57\")>,\n",
       " <selenium.webdriver.remote.webelement.WebElement (session=\"3b2a9eb2159952daacc658f405a60eae\", element=\"d39cc9bc-0452-48cf-b277-f9d58f17f06f\")>,\n",
       " <selenium.webdriver.remote.webelement.WebElement (session=\"3b2a9eb2159952daacc658f405a60eae\", element=\"b367d917-5d4a-4030-b28c-30c560f609ff\")>,\n",
       " <selenium.webdriver.remote.webelement.WebElement (session=\"3b2a9eb2159952daacc658f405a60eae\", element=\"8f0048be-1f40-4d15-843b-189496c64011\")>,\n",
       " <selenium.webdriver.remote.webelement.WebElement (session=\"3b2a9eb2159952daacc658f405a60eae\", element=\"85614895-06ca-45e1-993d-530a92a00a73\")>]"
      ]
     },
     "execution_count": 295,
     "metadata": {},
     "output_type": "execute_result"
    }
   ],
   "source": [
    "desc_tag[0:5]"
   ]
  },
  {
   "cell_type": "code",
   "execution_count": 296,
   "metadata": {},
   "outputs": [
    {
     "data": {
      "text/plain": [
       "['UV Protection Retro Square Sunglasses (49)',\n",
       " 'Polarized, UV Protection Wayfarer Sunglasses (56)',\n",
       " 'Gradient, UV Protection Wayfarer Sunglasses (Free Size)',\n",
       " 'Gradient, UV Protection Wayfarer Sunglasses (Free Size)',\n",
       " 'UV Protection Aviator Sunglasses (Free Size)']"
      ]
     },
     "execution_count": 296,
     "metadata": {},
     "output_type": "execute_result"
    }
   ],
   "source": [
    "for i in desc_tag:\n",
    "    item=i.text\n",
    "    \n",
    "    description.append(item)\n",
    "    \n",
    "description[0:5]"
   ]
  },
  {
   "cell_type": "code",
   "execution_count": 297,
   "metadata": {},
   "outputs": [],
   "source": [
    "price_tag=driver.find_elements_by_xpath(\"//div[@class='_30jeq3']\")"
   ]
  },
  {
   "cell_type": "code",
   "execution_count": 298,
   "metadata": {},
   "outputs": [
    {
     "data": {
      "text/plain": [
       "[<selenium.webdriver.remote.webelement.WebElement (session=\"3b2a9eb2159952daacc658f405a60eae\", element=\"8349659b-f31f-48c2-9329-266efb9d5fa0\")>,\n",
       " <selenium.webdriver.remote.webelement.WebElement (session=\"3b2a9eb2159952daacc658f405a60eae\", element=\"98cfa93e-94f8-48a5-970f-e9261cf232b5\")>,\n",
       " <selenium.webdriver.remote.webelement.WebElement (session=\"3b2a9eb2159952daacc658f405a60eae\", element=\"b447a102-6ff9-4838-ad7d-a004600e67a4\")>,\n",
       " <selenium.webdriver.remote.webelement.WebElement (session=\"3b2a9eb2159952daacc658f405a60eae\", element=\"8174f2fb-a81b-49ae-b7a5-fcc0695ac395\")>,\n",
       " <selenium.webdriver.remote.webelement.WebElement (session=\"3b2a9eb2159952daacc658f405a60eae\", element=\"f5e4e008-a189-4839-bff4-39fb4620f5d1\")>]"
      ]
     },
     "execution_count": 298,
     "metadata": {},
     "output_type": "execute_result"
    }
   ],
   "source": [
    "price_tag[0:5]"
   ]
  },
  {
   "cell_type": "code",
   "execution_count": 299,
   "metadata": {},
   "outputs": [
    {
     "data": {
      "text/plain": [
       "['₹664', '₹946', '₹596', '₹499', '₹314']"
      ]
     },
     "execution_count": 299,
     "metadata": {},
     "output_type": "execute_result"
    }
   ],
   "source": [
    "for i in price_tag:\n",
    "    item=i.text\n",
    "    \n",
    "    price.append(item)\n",
    "    \n",
    "price[0:5]"
   ]
  },
  {
   "cell_type": "code",
   "execution_count": 300,
   "metadata": {},
   "outputs": [],
   "source": [
    "disc_tag=driver.find_elements_by_xpath(\"//div[@class='_3Ay6Sb']/span\")"
   ]
  },
  {
   "cell_type": "code",
   "execution_count": 301,
   "metadata": {},
   "outputs": [
    {
     "data": {
      "text/plain": [
       "[<selenium.webdriver.remote.webelement.WebElement (session=\"3b2a9eb2159952daacc658f405a60eae\", element=\"62decef8-c8d8-4db3-b5df-9b9d3177e256\")>,\n",
       " <selenium.webdriver.remote.webelement.WebElement (session=\"3b2a9eb2159952daacc658f405a60eae\", element=\"4299d943-1fd9-4b60-b530-0c8416d917f9\")>,\n",
       " <selenium.webdriver.remote.webelement.WebElement (session=\"3b2a9eb2159952daacc658f405a60eae\", element=\"5a377393-0245-4dce-826e-019c370e2642\")>,\n",
       " <selenium.webdriver.remote.webelement.WebElement (session=\"3b2a9eb2159952daacc658f405a60eae\", element=\"073fdea2-573a-4984-ac80-41e2640d2e85\")>,\n",
       " <selenium.webdriver.remote.webelement.WebElement (session=\"3b2a9eb2159952daacc658f405a60eae\", element=\"13c244bf-e46a-439f-bc50-2619cac50acf\")>]"
      ]
     },
     "execution_count": 301,
     "metadata": {},
     "output_type": "execute_result"
    }
   ],
   "source": [
    "disc_tag[0:5]"
   ]
  },
  {
   "cell_type": "code",
   "execution_count": 302,
   "metadata": {},
   "outputs": [
    {
     "data": {
      "text/plain": [
       "['66% off', '77% off', '25% off', '37% off', '80% off']"
      ]
     },
     "execution_count": 302,
     "metadata": {},
     "output_type": "execute_result"
    }
   ],
   "source": [
    "for i in disc_tag:\n",
    "    item=i.text\n",
    "    \n",
    "    discount.append(item)\n",
    "    \n",
    "discount[0:5]"
   ]
  },
  {
   "cell_type": "code",
   "execution_count": 303,
   "metadata": {},
   "outputs": [],
   "source": [
    "# moving to next page\n",
    "next_p=driver.find_element_by_xpath(\"//nav[@class='yFHi8N']/a[2]\")"
   ]
  },
  {
   "cell_type": "code",
   "execution_count": 304,
   "metadata": {},
   "outputs": [],
   "source": [
    "next_p.click()"
   ]
  },
  {
   "cell_type": "code",
   "execution_count": 305,
   "metadata": {},
   "outputs": [],
   "source": [
    "u='https://www.flipkart.com/search?q=sunglasess&otracker=search&otracker1=search&marketplace=FLIPKART&as-show=on&as=off&page=2'"
   ]
  },
  {
   "cell_type": "code",
   "execution_count": 306,
   "metadata": {},
   "outputs": [],
   "source": [
    "driver.get(u)"
   ]
  },
  {
   "cell_type": "code",
   "execution_count": 307,
   "metadata": {},
   "outputs": [
    {
     "data": {
      "text/plain": [
       "[<selenium.webdriver.remote.webelement.WebElement (session=\"3b2a9eb2159952daacc658f405a60eae\", element=\"b8d2bf69-c485-46f3-888e-9e4e96141ce6\")>,\n",
       " <selenium.webdriver.remote.webelement.WebElement (session=\"3b2a9eb2159952daacc658f405a60eae\", element=\"f282da8f-966a-4a55-a597-fb7f8e0e6a24\")>,\n",
       " <selenium.webdriver.remote.webelement.WebElement (session=\"3b2a9eb2159952daacc658f405a60eae\", element=\"a7a0bca1-7088-4b6a-88c5-658bb3ff0dab\")>,\n",
       " <selenium.webdriver.remote.webelement.WebElement (session=\"3b2a9eb2159952daacc658f405a60eae\", element=\"cef6da5b-7215-478a-bf61-8df44a0e93a9\")>,\n",
       " <selenium.webdriver.remote.webelement.WebElement (session=\"3b2a9eb2159952daacc658f405a60eae\", element=\"7ee338f5-006a-4086-9694-01e8333225bc\")>]"
      ]
     },
     "execution_count": 307,
     "metadata": {},
     "output_type": "execute_result"
    }
   ],
   "source": [
    "brand_ta=driver.find_elements_by_xpath(\"//div[@class='_2WkVRV']\")\n",
    "brand_ta[0:5]"
   ]
  },
  {
   "cell_type": "code",
   "execution_count": 308,
   "metadata": {},
   "outputs": [
    {
     "data": {
      "text/plain": [
       "['Fastrack', 'hipe', 'Aislin', 'Royal Son', 'Phenomenal']"
      ]
     },
     "execution_count": 308,
     "metadata": {},
     "output_type": "execute_result"
    }
   ],
   "source": [
    "for i in brand_ta:\n",
    "    item=i.text\n",
    "    \n",
    "    brand.append(item)\n",
    "    \n",
    "brand[40:45]"
   ]
  },
  {
   "cell_type": "code",
   "execution_count": 309,
   "metadata": {},
   "outputs": [],
   "source": [
    "desc_tag=driver.find_elements_by_xpath(\"//div[@class='_2B099V']/a[1]\")"
   ]
  },
  {
   "cell_type": "code",
   "execution_count": 310,
   "metadata": {},
   "outputs": [
    {
     "data": {
      "text/plain": [
       "[<selenium.webdriver.remote.webelement.WebElement (session=\"3b2a9eb2159952daacc658f405a60eae\", element=\"99369557-dc62-42a8-b0ab-d06e4a4e30d8\")>,\n",
       " <selenium.webdriver.remote.webelement.WebElement (session=\"3b2a9eb2159952daacc658f405a60eae\", element=\"810e86ee-7cc8-4847-80c9-56ef656580dd\")>,\n",
       " <selenium.webdriver.remote.webelement.WebElement (session=\"3b2a9eb2159952daacc658f405a60eae\", element=\"9c7c57a6-3f2b-4ce1-a10d-d24ce7c64ed0\")>,\n",
       " <selenium.webdriver.remote.webelement.WebElement (session=\"3b2a9eb2159952daacc658f405a60eae\", element=\"c33a3af4-b371-4087-9c62-ad11b7f11661\")>,\n",
       " <selenium.webdriver.remote.webelement.WebElement (session=\"3b2a9eb2159952daacc658f405a60eae\", element=\"7841ae3c-c1e1-44bd-a267-55a1dd7f0480\")>]"
      ]
     },
     "execution_count": 310,
     "metadata": {},
     "output_type": "execute_result"
    }
   ],
   "source": [
    "desc_tag[0:5]"
   ]
  },
  {
   "cell_type": "code",
   "execution_count": 311,
   "metadata": {},
   "outputs": [
    {
     "data": {
      "text/plain": [
       "['UV Protection Round Sunglasses (52)',\n",
       " 'UV Protection, Mirrored, Gradient, Riding Glasses Round...',\n",
       " 'UV Protection, Gradient Butterfly, Retro Square Sunglas...',\n",
       " 'UV Protection Retro Square Sunglasses (49)',\n",
       " 'UV Protection, Mirrored Retro Square Sunglasses (53)']"
      ]
     },
     "execution_count": 311,
     "metadata": {},
     "output_type": "execute_result"
    }
   ],
   "source": [
    "for i in desc_tag:\n",
    "    item=i.text\n",
    "    \n",
    "    description.append(item)\n",
    "    \n",
    "description[40:45]"
   ]
  },
  {
   "cell_type": "code",
   "execution_count": 312,
   "metadata": {},
   "outputs": [],
   "source": [
    "price_tag=driver.find_elements_by_xpath(\"//div[@class='_30jeq3']\")"
   ]
  },
  {
   "cell_type": "code",
   "execution_count": 313,
   "metadata": {},
   "outputs": [
    {
     "data": {
      "text/plain": [
       "['₹909', '₹219', '₹450', '₹664', '₹399']"
      ]
     },
     "execution_count": 313,
     "metadata": {},
     "output_type": "execute_result"
    }
   ],
   "source": [
    "for i in price_tag:\n",
    "    item=i.text\n",
    "    \n",
    "    price.append(item)\n",
    "    \n",
    "price[40:45]"
   ]
  },
  {
   "cell_type": "code",
   "execution_count": 314,
   "metadata": {},
   "outputs": [],
   "source": [
    "disc_tag=driver.find_elements_by_xpath(\"//div[@class='_3Ay6Sb']/span\")"
   ]
  },
  {
   "cell_type": "code",
   "execution_count": 315,
   "metadata": {},
   "outputs": [
    {
     "data": {
      "text/plain": [
       "['30% off', '78% off', '70% off', '66% off', '80% off']"
      ]
     },
     "execution_count": 315,
     "metadata": {},
     "output_type": "execute_result"
    }
   ],
   "source": [
    "for i in disc_tag:\n",
    "    item=i.text\n",
    "    \n",
    "    discount.append(item)\n",
    "    \n",
    "discount[40:45]"
   ]
  },
  {
   "cell_type": "code",
   "execution_count": 316,
   "metadata": {},
   "outputs": [],
   "source": [
    "# moving to next page\n",
    "next_p1=driver.find_element_by_xpath(\"//nav[@class='yFHi8N']/a[3]\")"
   ]
  },
  {
   "cell_type": "code",
   "execution_count": 317,
   "metadata": {},
   "outputs": [],
   "source": [
    "next_p1.click()"
   ]
  },
  {
   "cell_type": "code",
   "execution_count": 318,
   "metadata": {},
   "outputs": [],
   "source": [
    "url='https://www.flipkart.com/search?q=sunglasess&otracker=search&otracker1=search&marketplace=FLIPKART&as-show=on&as=off&page=3'"
   ]
  },
  {
   "cell_type": "code",
   "execution_count": 319,
   "metadata": {},
   "outputs": [],
   "source": [
    "driver.get(url)"
   ]
  },
  {
   "cell_type": "code",
   "execution_count": 320,
   "metadata": {},
   "outputs": [
    {
     "data": {
      "text/plain": [
       "[<selenium.webdriver.remote.webelement.WebElement (session=\"3b2a9eb2159952daacc658f405a60eae\", element=\"a22dc2ce-b1ad-481f-b79a-5c2127157f44\")>,\n",
       " <selenium.webdriver.remote.webelement.WebElement (session=\"3b2a9eb2159952daacc658f405a60eae\", element=\"29e6aa62-ec4d-4916-9665-fcf906e1b7d3\")>,\n",
       " <selenium.webdriver.remote.webelement.WebElement (session=\"3b2a9eb2159952daacc658f405a60eae\", element=\"bc5c688a-bc3e-405b-bf64-58fb54508741\")>,\n",
       " <selenium.webdriver.remote.webelement.WebElement (session=\"3b2a9eb2159952daacc658f405a60eae\", element=\"ffd68e0a-9df9-407d-a0ea-f40d7f0b47c2\")>,\n",
       " <selenium.webdriver.remote.webelement.WebElement (session=\"3b2a9eb2159952daacc658f405a60eae\", element=\"15a9a4ab-7105-459e-8ee2-5b9808b3641f\")>]"
      ]
     },
     "execution_count": 320,
     "metadata": {},
     "output_type": "execute_result"
    }
   ],
   "source": [
    "brand_ta=driver.find_elements_by_xpath(\"//div[@class='_2WkVRV']\")\n",
    "brand_ta[0:5]"
   ]
  },
  {
   "cell_type": "code",
   "execution_count": 321,
   "metadata": {},
   "outputs": [
    {
     "data": {
      "text/plain": [
       "['Fastrack', 'PIRASO', 'NuVew', 'Royal Son', 'Aislin']"
      ]
     },
     "execution_count": 321,
     "metadata": {},
     "output_type": "execute_result"
    }
   ],
   "source": [
    "for i in brand_ta:\n",
    "    item=i.text\n",
    "    \n",
    "    brand.append(item)\n",
    "    \n",
    "brand[80:85]"
   ]
  },
  {
   "cell_type": "code",
   "execution_count": 322,
   "metadata": {},
   "outputs": [],
   "source": [
    "desc_tag=driver.find_elements_by_xpath(\"//div[@class='_2B099V']/a[1]\")"
   ]
  },
  {
   "cell_type": "code",
   "execution_count": 323,
   "metadata": {},
   "outputs": [
    {
     "data": {
      "text/plain": [
       "['UV Protection Retro Square Sunglasses (54)',\n",
       " 'UV Protection Aviator Sunglasses (50)',\n",
       " 'UV Protection, Night Vision, Riding Glasses Sports Sung...',\n",
       " 'UV Protection Retro Square Sunglasses (49)',\n",
       " 'UV Protection, Gradient Aviator Sunglasses (61)']"
      ]
     },
     "execution_count": 323,
     "metadata": {},
     "output_type": "execute_result"
    }
   ],
   "source": [
    "for i in desc_tag:\n",
    "    item=i.text\n",
    "    \n",
    "    description.append(item)\n",
    "    \n",
    "description[80:85]"
   ]
  },
  {
   "cell_type": "code",
   "execution_count": 324,
   "metadata": {},
   "outputs": [],
   "source": [
    "price_tag=driver.find_elements_by_xpath(\"//div[@class='_30jeq3']\")"
   ]
  },
  {
   "cell_type": "code",
   "execution_count": 325,
   "metadata": {},
   "outputs": [
    {
     "data": {
      "text/plain": [
       "['₹629', '₹314', '₹282', '₹664', '₹545']"
      ]
     },
     "execution_count": 325,
     "metadata": {},
     "output_type": "execute_result"
    }
   ],
   "source": [
    "for i in price_tag:\n",
    "    item=i.text\n",
    "    \n",
    "    price.append(item)\n",
    "    \n",
    "price[80:85]"
   ]
  },
  {
   "cell_type": "code",
   "execution_count": 326,
   "metadata": {},
   "outputs": [],
   "source": [
    "disc_tag=driver.find_elements_by_xpath(\"//div[@class='_3Ay6Sb']/span\")"
   ]
  },
  {
   "cell_type": "code",
   "execution_count": 327,
   "metadata": {},
   "outputs": [
    {
     "data": {
      "text/plain": [
       "['30% off', '80% off', '64% off', '66% off', '74% off']"
      ]
     },
     "execution_count": 327,
     "metadata": {},
     "output_type": "execute_result"
    }
   ],
   "source": [
    "for i in disc_tag:\n",
    "    item=i.text\n",
    "    \n",
    "    discount.append(item)\n",
    "    \n",
    "discount[80:85]"
   ]
  },
  {
   "cell_type": "code",
   "execution_count": 328,
   "metadata": {},
   "outputs": [
    {
     "name": "stdout",
     "output_type": "stream",
     "text": [
      "120 120 120 120\n"
     ]
    }
   ],
   "source": [
    "print(len(brand),len(description),len(price),len(discount))"
   ]
  },
  {
   "cell_type": "code",
   "execution_count": 329,
   "metadata": {},
   "outputs": [],
   "source": [
    "##creating data frame\n",
    "sunglasses=pd.DataFrame({})\n",
    "sunglasses['Brand']=brand[0:100]\n",
    "sunglasses[\"Product_description\"]=description[0:100]\n",
    "sunglasses['Price']=price[0:100]\n",
    "sunglasses['Discount']=discount[0:100]"
   ]
  },
  {
   "cell_type": "code",
   "execution_count": 330,
   "metadata": {},
   "outputs": [
    {
     "data": {
      "text/html": [
       "<div>\n",
       "<style scoped>\n",
       "    .dataframe tbody tr th:only-of-type {\n",
       "        vertical-align: middle;\n",
       "    }\n",
       "\n",
       "    .dataframe tbody tr th {\n",
       "        vertical-align: top;\n",
       "    }\n",
       "\n",
       "    .dataframe thead th {\n",
       "        text-align: right;\n",
       "    }\n",
       "</style>\n",
       "<table border=\"1\" class=\"dataframe\">\n",
       "  <thead>\n",
       "    <tr style=\"text-align: right;\">\n",
       "      <th></th>\n",
       "      <th>Brand</th>\n",
       "      <th>Product_description</th>\n",
       "      <th>Price</th>\n",
       "      <th>Discount</th>\n",
       "    </tr>\n",
       "  </thead>\n",
       "  <tbody>\n",
       "    <tr>\n",
       "      <th>0</th>\n",
       "      <td>Royal Son</td>\n",
       "      <td>UV Protection Retro Square Sunglasses (49)</td>\n",
       "      <td>₹664</td>\n",
       "      <td>66% off</td>\n",
       "    </tr>\n",
       "    <tr>\n",
       "      <th>1</th>\n",
       "      <td>Aislin</td>\n",
       "      <td>Polarized, UV Protection Wayfarer Sunglasses (56)</td>\n",
       "      <td>₹946</td>\n",
       "      <td>77% off</td>\n",
       "    </tr>\n",
       "    <tr>\n",
       "      <th>2</th>\n",
       "      <td>Fastrack</td>\n",
       "      <td>Gradient, UV Protection Wayfarer Sunglasses (F...</td>\n",
       "      <td>₹596</td>\n",
       "      <td>25% off</td>\n",
       "    </tr>\n",
       "    <tr>\n",
       "      <th>3</th>\n",
       "      <td>Fastrack</td>\n",
       "      <td>Gradient, UV Protection Wayfarer Sunglasses (F...</td>\n",
       "      <td>₹499</td>\n",
       "      <td>37% off</td>\n",
       "    </tr>\n",
       "    <tr>\n",
       "      <th>4</th>\n",
       "      <td>PIRASO</td>\n",
       "      <td>UV Protection Aviator Sunglasses (Free Size)</td>\n",
       "      <td>₹314</td>\n",
       "      <td>80% off</td>\n",
       "    </tr>\n",
       "    <tr>\n",
       "      <th>...</th>\n",
       "      <td>...</td>\n",
       "      <td>...</td>\n",
       "      <td>...</td>\n",
       "      <td>...</td>\n",
       "    </tr>\n",
       "    <tr>\n",
       "      <th>95</th>\n",
       "      <td>United Colors of Benetton</td>\n",
       "      <td>UV Protection Retro Square Sunglasses (57)</td>\n",
       "      <td>₹1,560</td>\n",
       "      <td>60% off</td>\n",
       "    </tr>\n",
       "    <tr>\n",
       "      <th>96</th>\n",
       "      <td>Fossil</td>\n",
       "      <td>Mirrored Round Sunglasses (51)</td>\n",
       "      <td>₹2,200</td>\n",
       "      <td>50% off</td>\n",
       "    </tr>\n",
       "    <tr>\n",
       "      <th>97</th>\n",
       "      <td>Deixels</td>\n",
       "      <td>UV Protection Aviator Sunglasses (Free Size)</td>\n",
       "      <td>₹189</td>\n",
       "      <td>83% off</td>\n",
       "    </tr>\n",
       "    <tr>\n",
       "      <th>98</th>\n",
       "      <td>United Colors of Benetton</td>\n",
       "      <td>Mirrored Rectangular Sunglasses (56)</td>\n",
       "      <td>₹1,640</td>\n",
       "      <td>60% off</td>\n",
       "    </tr>\n",
       "    <tr>\n",
       "      <th>99</th>\n",
       "      <td>Aislin</td>\n",
       "      <td>Polarized, UV Protection Wayfarer, Retro Squar...</td>\n",
       "      <td>₹946</td>\n",
       "      <td>77% off</td>\n",
       "    </tr>\n",
       "  </tbody>\n",
       "</table>\n",
       "<p>100 rows × 4 columns</p>\n",
       "</div>"
      ],
      "text/plain": [
       "                        Brand  \\\n",
       "0                   Royal Son   \n",
       "1                      Aislin   \n",
       "2                    Fastrack   \n",
       "3                    Fastrack   \n",
       "4                      PIRASO   \n",
       "..                        ...   \n",
       "95  United Colors of Benetton   \n",
       "96                     Fossil   \n",
       "97                    Deixels   \n",
       "98  United Colors of Benetton   \n",
       "99                     Aislin   \n",
       "\n",
       "                                  Product_description   Price Discount  \n",
       "0          UV Protection Retro Square Sunglasses (49)    ₹664  66% off  \n",
       "1   Polarized, UV Protection Wayfarer Sunglasses (56)    ₹946  77% off  \n",
       "2   Gradient, UV Protection Wayfarer Sunglasses (F...    ₹596  25% off  \n",
       "3   Gradient, UV Protection Wayfarer Sunglasses (F...    ₹499  37% off  \n",
       "4        UV Protection Aviator Sunglasses (Free Size)    ₹314  80% off  \n",
       "..                                                ...     ...      ...  \n",
       "95         UV Protection Retro Square Sunglasses (57)  ₹1,560  60% off  \n",
       "96                     Mirrored Round Sunglasses (51)  ₹2,200  50% off  \n",
       "97       UV Protection Aviator Sunglasses (Free Size)    ₹189  83% off  \n",
       "98               Mirrored Rectangular Sunglasses (56)  ₹1,640  60% off  \n",
       "99  Polarized, UV Protection Wayfarer, Retro Squar...    ₹946  77% off  \n",
       "\n",
       "[100 rows x 4 columns]"
      ]
     },
     "execution_count": 330,
     "metadata": {},
     "output_type": "execute_result"
    }
   ],
   "source": [
    "sunglasses"
   ]
  },
  {
   "cell_type": "markdown",
   "metadata": {},
   "source": [
    "# 7 Scrapping reviews for  iphone 11"
   ]
  },
  {
   "cell_type": "code",
   "execution_count": 128,
   "metadata": {},
   "outputs": [],
   "source": [
    "driver.get('https://www.flipkart.com/apple-iphone-11-black-64-gb-includes-earpods-power-adapter/p/itm0f37c2240b217?pid=MOBFKCTSVZAXUHGR&lid=LSTMOBFKCTSVZAXUHGREPBFGI&marketplace')"
   ]
  },
  {
   "cell_type": "code",
   "execution_count": 129,
   "metadata": {},
   "outputs": [],
   "source": [
    "apple='https://www.flipkart.com/apple-iphone-11-black-64-gb-includes-earpods-power-adapter/product-reviews/itm0f37c2240b217?pid=MOBFKCTSVZAXUHGR&lid=LSTMOBFKCTSVZAXUHGR3QP11A&marketplace=FLIPKART'"
   ]
  },
  {
   "cell_type": "code",
   "execution_count": 130,
   "metadata": {},
   "outputs": [],
   "source": [
    "# connect webpage with webdriver\n",
    "driver.get(apple)"
   ]
  },
  {
   "cell_type": "code",
   "execution_count": 131,
   "metadata": {},
   "outputs": [],
   "source": [
    "rating=[]\n",
    "review_summery=[]\n",
    "full_review=[]"
   ]
  },
  {
   "cell_type": "code",
   "execution_count": 132,
   "metadata": {},
   "outputs": [],
   "source": [
    "# scrap ratings\n",
    "rating_tag=driver.find_elements_by_xpath(\"//div[@class='_3LWZlK _1BLPMq']\")"
   ]
  },
  {
   "cell_type": "code",
   "execution_count": 133,
   "metadata": {},
   "outputs": [
    {
     "data": {
      "text/plain": [
       "[<selenium.webdriver.remote.webelement.WebElement (session=\"89ce08905c555ae90a992167f59ec5a2\", element=\"3be1f7d6-fbcd-4bc0-9c8f-4c01c3f6a699\")>,\n",
       " <selenium.webdriver.remote.webelement.WebElement (session=\"89ce08905c555ae90a992167f59ec5a2\", element=\"08e644e2-3af5-4c4a-a33e-02a337dc885f\")>,\n",
       " <selenium.webdriver.remote.webelement.WebElement (session=\"89ce08905c555ae90a992167f59ec5a2\", element=\"d18abaf4-7679-4169-bc8b-a2f5ca7af8d5\")>,\n",
       " <selenium.webdriver.remote.webelement.WebElement (session=\"89ce08905c555ae90a992167f59ec5a2\", element=\"5d733868-e895-4bb8-8f59-63411bc6eaa3\")>,\n",
       " <selenium.webdriver.remote.webelement.WebElement (session=\"89ce08905c555ae90a992167f59ec5a2\", element=\"20a0b2e5-f9c2-4b9f-905c-14ae470a7f8f\")>]"
      ]
     },
     "execution_count": 133,
     "metadata": {},
     "output_type": "execute_result"
    }
   ],
   "source": [
    "rating_tag[0:5]"
   ]
  },
  {
   "cell_type": "code",
   "execution_count": 134,
   "metadata": {},
   "outputs": [
    {
     "data": {
      "text/plain": [
       "['5', '5', '5', '5', '5', '5', '5', '5', '5', '4']"
      ]
     },
     "execution_count": 134,
     "metadata": {},
     "output_type": "execute_result"
    }
   ],
   "source": [
    "#Extracting text\n",
    "for i in rating_tag:\n",
    "    rat=i.text\n",
    "    rating.append(rat)\n",
    "rating"
   ]
  },
  {
   "cell_type": "code",
   "execution_count": 135,
   "metadata": {},
   "outputs": [
    {
     "data": {
      "text/plain": [
       "10"
      ]
     },
     "execution_count": 135,
     "metadata": {},
     "output_type": "execute_result"
    }
   ],
   "source": [
    "len(rating)"
   ]
  },
  {
   "cell_type": "code",
   "execution_count": 136,
   "metadata": {},
   "outputs": [],
   "source": [
    "# scraping reviw summary\n",
    "review_tag=driver.find_elements_by_xpath(\"//p[@class='_2-N8zT']\")"
   ]
  },
  {
   "cell_type": "code",
   "execution_count": 137,
   "metadata": {},
   "outputs": [
    {
     "data": {
      "text/plain": [
       "[<selenium.webdriver.remote.webelement.WebElement (session=\"89ce08905c555ae90a992167f59ec5a2\", element=\"d556cbcd-7098-42c4-85df-0cb2dfa2e309\")>,\n",
       " <selenium.webdriver.remote.webelement.WebElement (session=\"89ce08905c555ae90a992167f59ec5a2\", element=\"4a01a7b3-eb5a-44e8-ab15-477375665561\")>,\n",
       " <selenium.webdriver.remote.webelement.WebElement (session=\"89ce08905c555ae90a992167f59ec5a2\", element=\"e90136ab-71c3-4c2a-ba17-033983278072\")>,\n",
       " <selenium.webdriver.remote.webelement.WebElement (session=\"89ce08905c555ae90a992167f59ec5a2\", element=\"0030f39a-c481-4489-abc7-a2be0d763924\")>,\n",
       " <selenium.webdriver.remote.webelement.WebElement (session=\"89ce08905c555ae90a992167f59ec5a2\", element=\"7be7ff54-4e99-44a6-acea-5f21b801f56a\")>]"
      ]
     },
     "execution_count": 137,
     "metadata": {},
     "output_type": "execute_result"
    }
   ],
   "source": [
    "review_tag[0:5]"
   ]
  },
  {
   "cell_type": "code",
   "execution_count": 138,
   "metadata": {},
   "outputs": [
    {
     "data": {
      "text/plain": [
       "['Perfect product!',\n",
       " 'Great product',\n",
       " 'Highly recommended',\n",
       " 'Perfect product!',\n",
       " 'Brilliant',\n",
       " 'Perfect product!',\n",
       " 'Worth every penny',\n",
       " 'Worth every penny',\n",
       " 'Wonderful',\n",
       " 'Nice product']"
      ]
     },
     "execution_count": 138,
     "metadata": {},
     "output_type": "execute_result"
    }
   ],
   "source": [
    "#Extracting text\n",
    "for i in review_tag:\n",
    "    rew=i.text\n",
    "    review_summery.append(rew)\n",
    "review_summery"
   ]
  },
  {
   "cell_type": "code",
   "execution_count": 139,
   "metadata": {},
   "outputs": [],
   "source": [
    "# scraping reviw summary\n",
    "full_tag=driver.find_elements_by_xpath(\"//div[@class='t-ZTKy']/div\")"
   ]
  },
  {
   "cell_type": "code",
   "execution_count": 140,
   "metadata": {},
   "outputs": [
    {
     "data": {
      "text/plain": [
       "[<selenium.webdriver.remote.webelement.WebElement (session=\"89ce08905c555ae90a992167f59ec5a2\", element=\"50300e0f-2942-4e0a-a8c9-f8d5ada6806b\")>,\n",
       " <selenium.webdriver.remote.webelement.WebElement (session=\"89ce08905c555ae90a992167f59ec5a2\", element=\"cccd5da8-cd1f-4ef6-a3e4-ec5f5b6b4f7a\")>,\n",
       " <selenium.webdriver.remote.webelement.WebElement (session=\"89ce08905c555ae90a992167f59ec5a2\", element=\"f2057224-52fd-42ea-a503-6dc8bd404265\")>,\n",
       " <selenium.webdriver.remote.webelement.WebElement (session=\"89ce08905c555ae90a992167f59ec5a2\", element=\"c4794183-d89f-4dc3-a9ce-bd37272e60d9\")>,\n",
       " <selenium.webdriver.remote.webelement.WebElement (session=\"89ce08905c555ae90a992167f59ec5a2\", element=\"373dcd98-aafa-4549-a65d-2fdd36878567\")>]"
      ]
     },
     "execution_count": 140,
     "metadata": {},
     "output_type": "execute_result"
    }
   ],
   "source": [
    "full_tag[0:5]"
   ]
  },
  {
   "cell_type": "code",
   "execution_count": 141,
   "metadata": {
    "scrolled": true
   },
   "outputs": [
    {
     "data": {
      "text/plain": [
       "['Amazing phone with great cameras and better battery which gives you the best performance. I just love the camera .',\n",
       " 'Amazing Powerful and Durable Gadget.\\n\\nI’m am very happy with the camera picture quality, Amazing face id unlocked in dark room, Strong battery with perfect screen size as you can carry easily in pocket. This is my third iPhone.\\n\\nI shifted from android Samsung Note series to iPhone because of the strong build quality and peace of mind for next 3-4 years.\\n\\nDon’t think to much just go for it and I suggest you to go for minimum 128gb variant or more 256gb.\\n\\nI’ve attached my puppy pics and no fi...\\nREAD MORE',\n",
       " 'iphone 11 is a very good phone to buy only if you can compromise for the display. The display on this is device is pretty good but you can get other options with better displays in this price segment.\\nIf you can survive with an HD+ LCD panel with thicker bezels and a notch up top then this is a very good phone for you.\\nCameras are awesome, battery backup excellent, great performance and a decent premium look. Good job Apple !',\n",
       " 'It’s a must buy who is looking for an upgrade from previous generation of iPhones. If you are using XR then still you can hold on for sometime and upgrade to 2020 model else this phone is a must buy . Camera quality is amazing and wide angle is something to count upon. Performance wise it’s amazing and feels premium while holding in hand. So a big YES for this device. Go for 128 GB variant as the 4K videos will occupy lots of space and the storage can get over very quickly. Try to buy it with...\\nREAD MORE',\n",
       " 'The Best Phone for the Money\\n\\nThe iPhone 11 offers superb cameras, a more durable design and excellent battery life for an affordable price.\\n\\nCompelling ultra-wide camera\\nNew Night mode is excellent\\nLong battery life',\n",
       " 'Value for money❤️❤️\\nIts awesome mobile phone in the world ...\\nDisplay was very good and bright ..\\nTrust me freinds you r never regret after Buying..\\nJust go for it....\\nI love this phone and i switch to iphone x to 11',\n",
       " 'Best budget Iphone till date ❤️ go for it guys without second thought. Let me explain you guys about Camera, Display, battery, and performance.\\n\\nCamera: at this price range there is no comparison of camera, you’ll love the picture quality as well as video quality. I am a Vlogger I wanted an iPhone with 4k video by front camera and I got this phone and I am more than happy 😃\\n\\nBattery: I use this phone roughly as I am active social media person and I have a youtube channel. so the battery ba...\\nREAD MORE',\n",
       " 'It’s been almost a month since I have been using this phone. I upgraded from an iPhone 8. The main issue with my 8 was battery and this phone is just awesome when it comes to battery. It lasts a day and a half for me with my regular use , internet connected always with 4g\\nCan’t move forward without saying this. Battery of this phone is a life saver when I am traveling or at work when I don’t get the option to charge\\nCamera is superb. Front cam selfies and back cam photos are just awesome.\\n...\\nREAD MORE',\n",
       " '*Review after 10 months of usage*\\nDoesn\\'t seem bulky with decent touch and camera. The \"standard maintained\" quality of IPhone. Go for it, if your budget is not more enough for pro models. It\\'s a value for money among the 11 series Stereo speakers are so good, you will love the stereo sound. Battery backup is not decent but still better than Iphone 7 and 8.Processor is fast, the phone doesn\\'t lag at all even with heavy games, waterproof, faster face id and with no fingerprint scanners. The ca...\\nREAD MORE',\n",
       " 'Awesome Phone. Slightly high price but worth. Better than iPhone XR.\\nCamera is superb and wide angle camera is very clear.\\n12MP selfie camera is also very good.\\nA13 Chip gives a very good and smooth performance.']"
      ]
     },
     "execution_count": 141,
     "metadata": {},
     "output_type": "execute_result"
    }
   ],
   "source": [
    "#Extracting text\n",
    "for i in full_tag:\n",
    "    ful=i.text\n",
    "    full_review.append(ful)\n",
    "full_review"
   ]
  },
  {
   "cell_type": "code",
   "execution_count": 142,
   "metadata": {},
   "outputs": [
    {
     "data": {
      "text/plain": [
       "10"
      ]
     },
     "execution_count": 142,
     "metadata": {},
     "output_type": "execute_result"
    }
   ],
   "source": [
    "len(full_review)"
   ]
  },
  {
   "cell_type": "code",
   "execution_count": 143,
   "metadata": {},
   "outputs": [],
   "source": [
    "# creating dataframe"
   ]
  },
  {
   "cell_type": "code",
   "execution_count": 144,
   "metadata": {},
   "outputs": [],
   "source": [
    "reviews=pd.DataFrame({})\n",
    "reviews['Rating']=rating\n",
    "reviews['Review']=review_summery\n",
    "reviews['Full_review']=full_review"
   ]
  },
  {
   "cell_type": "code",
   "execution_count": 145,
   "metadata": {},
   "outputs": [
    {
     "data": {
      "text/html": [
       "<div>\n",
       "<style scoped>\n",
       "    .dataframe tbody tr th:only-of-type {\n",
       "        vertical-align: middle;\n",
       "    }\n",
       "\n",
       "    .dataframe tbody tr th {\n",
       "        vertical-align: top;\n",
       "    }\n",
       "\n",
       "    .dataframe thead th {\n",
       "        text-align: right;\n",
       "    }\n",
       "</style>\n",
       "<table border=\"1\" class=\"dataframe\">\n",
       "  <thead>\n",
       "    <tr style=\"text-align: right;\">\n",
       "      <th></th>\n",
       "      <th>Rating</th>\n",
       "      <th>Review</th>\n",
       "      <th>Full_review</th>\n",
       "    </tr>\n",
       "  </thead>\n",
       "  <tbody>\n",
       "    <tr>\n",
       "      <th>0</th>\n",
       "      <td>5</td>\n",
       "      <td>Perfect product!</td>\n",
       "      <td>Amazing phone with great cameras and better ba...</td>\n",
       "    </tr>\n",
       "    <tr>\n",
       "      <th>1</th>\n",
       "      <td>5</td>\n",
       "      <td>Great product</td>\n",
       "      <td>Amazing Powerful and Durable Gadget.\\n\\nI’m am...</td>\n",
       "    </tr>\n",
       "    <tr>\n",
       "      <th>2</th>\n",
       "      <td>5</td>\n",
       "      <td>Highly recommended</td>\n",
       "      <td>iphone 11 is a very good phone to buy only if ...</td>\n",
       "    </tr>\n",
       "    <tr>\n",
       "      <th>3</th>\n",
       "      <td>5</td>\n",
       "      <td>Perfect product!</td>\n",
       "      <td>It’s a must buy who is looking for an upgrade ...</td>\n",
       "    </tr>\n",
       "    <tr>\n",
       "      <th>4</th>\n",
       "      <td>5</td>\n",
       "      <td>Brilliant</td>\n",
       "      <td>The Best Phone for the Money\\n\\nThe iPhone 11 ...</td>\n",
       "    </tr>\n",
       "    <tr>\n",
       "      <th>5</th>\n",
       "      <td>5</td>\n",
       "      <td>Perfect product!</td>\n",
       "      <td>Value for money❤️❤️\\nIts awesome mobile phone ...</td>\n",
       "    </tr>\n",
       "    <tr>\n",
       "      <th>6</th>\n",
       "      <td>5</td>\n",
       "      <td>Worth every penny</td>\n",
       "      <td>Best budget Iphone till date ❤️ go for it guys...</td>\n",
       "    </tr>\n",
       "    <tr>\n",
       "      <th>7</th>\n",
       "      <td>5</td>\n",
       "      <td>Worth every penny</td>\n",
       "      <td>It’s been almost a month since I have been usi...</td>\n",
       "    </tr>\n",
       "    <tr>\n",
       "      <th>8</th>\n",
       "      <td>5</td>\n",
       "      <td>Wonderful</td>\n",
       "      <td>*Review after 10 months of usage*\\nDoesn't see...</td>\n",
       "    </tr>\n",
       "    <tr>\n",
       "      <th>9</th>\n",
       "      <td>4</td>\n",
       "      <td>Nice product</td>\n",
       "      <td>Awesome Phone. Slightly high price but worth. ...</td>\n",
       "    </tr>\n",
       "  </tbody>\n",
       "</table>\n",
       "</div>"
      ],
      "text/plain": [
       "  Rating              Review  \\\n",
       "0      5    Perfect product!   \n",
       "1      5       Great product   \n",
       "2      5  Highly recommended   \n",
       "3      5    Perfect product!   \n",
       "4      5           Brilliant   \n",
       "5      5    Perfect product!   \n",
       "6      5   Worth every penny   \n",
       "7      5   Worth every penny   \n",
       "8      5           Wonderful   \n",
       "9      4        Nice product   \n",
       "\n",
       "                                         Full_review  \n",
       "0  Amazing phone with great cameras and better ba...  \n",
       "1  Amazing Powerful and Durable Gadget.\\n\\nI’m am...  \n",
       "2  iphone 11 is a very good phone to buy only if ...  \n",
       "3  It’s a must buy who is looking for an upgrade ...  \n",
       "4  The Best Phone for the Money\\n\\nThe iPhone 11 ...  \n",
       "5  Value for money❤️❤️\\nIts awesome mobile phone ...  \n",
       "6  Best budget Iphone till date ❤️ go for it guys...  \n",
       "7  It’s been almost a month since I have been usi...  \n",
       "8  *Review after 10 months of usage*\\nDoesn't see...  \n",
       "9  Awesome Phone. Slightly high price but worth. ...  "
      ]
     },
     "execution_count": 145,
     "metadata": {},
     "output_type": "execute_result"
    }
   ],
   "source": [
    "reviews"
   ]
  },
  {
   "cell_type": "code",
   "execution_count": null,
   "metadata": {},
   "outputs": [],
   "source": []
  },
  {
   "cell_type": "markdown",
   "metadata": {},
   "source": [
    "# 8 Scrapping first 100 sneakers from flipkart"
   ]
  },
  {
   "cell_type": "code",
   "execution_count": 413,
   "metadata": {},
   "outputs": [],
   "source": [
    "driver.get('https://www.flipkart.com/')"
   ]
  },
  {
   "cell_type": "code",
   "execution_count": 414,
   "metadata": {},
   "outputs": [],
   "source": [
    "prod=driver.find_element_by_xpath(\"//div[@class='_3OO5Xc']/input\")"
   ]
  },
  {
   "cell_type": "code",
   "execution_count": 415,
   "metadata": {},
   "outputs": [],
   "source": [
    "prod.send_keys('sneakers')"
   ]
  },
  {
   "cell_type": "code",
   "execution_count": 416,
   "metadata": {},
   "outputs": [],
   "source": [
    "search=driver.find_element_by_xpath(\"//button[@class='L0Z3Pu']\")"
   ]
  },
  {
   "cell_type": "code",
   "execution_count": 417,
   "metadata": {},
   "outputs": [],
   "source": [
    "search.submit()"
   ]
  },
  {
   "cell_type": "code",
   "execution_count": 418,
   "metadata": {},
   "outputs": [],
   "source": [
    "footwear='https://www.flipkart.com/search?q=sneakers&otracker=search&otracker1=search&marketplace=FLIPKART&as-show=on&as=off'"
   ]
  },
  {
   "cell_type": "code",
   "execution_count": 419,
   "metadata": {},
   "outputs": [],
   "source": [
    "# connect to webpage through web driver\n",
    "driver.get(footwear)"
   ]
  },
  {
   "cell_type": "code",
   "execution_count": 432,
   "metadata": {},
   "outputs": [],
   "source": [
    "brand=[]\n",
    "description=[]\n",
    "price=[]\n",
    "discount=[]"
   ]
  },
  {
   "cell_type": "code",
   "execution_count": 434,
   "metadata": {},
   "outputs": [
    {
     "data": {
      "text/plain": [
       "[<selenium.webdriver.remote.webelement.WebElement (session=\"3450f4b08c443615a41e8efdb89f04cb\", element=\"e00f0d14-e310-4ecf-9fb3-fcea9edc1b0f\")>,\n",
       " <selenium.webdriver.remote.webelement.WebElement (session=\"3450f4b08c443615a41e8efdb89f04cb\", element=\"93febda7-5daa-4d43-817c-de68813a79f2\")>,\n",
       " <selenium.webdriver.remote.webelement.WebElement (session=\"3450f4b08c443615a41e8efdb89f04cb\", element=\"cac3efc1-f017-4483-a2e7-d08802333d1c\")>,\n",
       " <selenium.webdriver.remote.webelement.WebElement (session=\"3450f4b08c443615a41e8efdb89f04cb\", element=\"1ec38854-9b5e-46e6-995a-d23cd08265b5\")>,\n",
       " <selenium.webdriver.remote.webelement.WebElement (session=\"3450f4b08c443615a41e8efdb89f04cb\", element=\"bb4b775a-59b8-406f-8008-ab7be71bb6fe\")>]"
      ]
     },
     "execution_count": 434,
     "metadata": {},
     "output_type": "execute_result"
    }
   ],
   "source": [
    "#scraping brand\n",
    "brand_ta=driver.find_elements_by_xpath(\"//div[@class='_2WkVRV']\")\n",
    "brand_ta[0:5]"
   ]
  },
  {
   "cell_type": "code",
   "execution_count": 435,
   "metadata": {},
   "outputs": [
    {
     "data": {
      "text/plain": [
       "['Robbie jones', 'Rockfield', 'Chevit', 'Robbie jones', 'World Wear Footwear']"
      ]
     },
     "execution_count": 435,
     "metadata": {},
     "output_type": "execute_result"
    }
   ],
   "source": [
    "for i in brand_ta:\n",
    "    item=i.text\n",
    "    \n",
    "    brand.append(item)\n",
    "    \n",
    "brand[0:5]"
   ]
  },
  {
   "cell_type": "code",
   "execution_count": 436,
   "metadata": {},
   "outputs": [],
   "source": [
    "# Scrapping product description\n",
    "desc_tag=driver.find_elements_by_xpath(\"//div[@class='_2B099V']/a[1]\")"
   ]
  },
  {
   "cell_type": "code",
   "execution_count": 437,
   "metadata": {},
   "outputs": [
    {
     "data": {
      "text/plain": [
       "['Casual Sneakers Shoes For Men Sneakers For Men',\n",
       " 'Sneakers For Men',\n",
       " 'Combo Pack of 4 Casual Sneakers With Sneakers For Men',\n",
       " 'Casual Sneakers Shoes For Men Sneakers For Men',\n",
       " 'Combo Pack of 4 Latest Collection Stylish Casual Loafer...']"
      ]
     },
     "execution_count": 437,
     "metadata": {},
     "output_type": "execute_result"
    }
   ],
   "source": [
    "for i in desc_tag:\n",
    "    item=i.text\n",
    "    \n",
    "    description.append(item)\n",
    "    \n",
    "description[0:5]"
   ]
  },
  {
   "cell_type": "code",
   "execution_count": 438,
   "metadata": {},
   "outputs": [],
   "source": [
    "# scrapping price\n",
    "price_tag=driver.find_elements_by_xpath(\"//div[@class='_30jeq3']\")"
   ]
  },
  {
   "cell_type": "code",
   "execution_count": 439,
   "metadata": {},
   "outputs": [
    {
     "data": {
      "text/plain": [
       "['₹474', '₹474', '₹474', '₹379', '₹474']"
      ]
     },
     "execution_count": 439,
     "metadata": {},
     "output_type": "execute_result"
    }
   ],
   "source": [
    "for i in price_tag:\n",
    "    item=i.text\n",
    "    \n",
    "    price.append(item)\n",
    "    \n",
    "price[0:5]"
   ]
  },
  {
   "cell_type": "code",
   "execution_count": 440,
   "metadata": {},
   "outputs": [],
   "source": [
    "# Scrapping discount \n",
    "disc_tag=driver.find_elements_by_xpath(\"//div[@class='_3Ay6Sb']/span\")"
   ]
  },
  {
   "cell_type": "code",
   "execution_count": 441,
   "metadata": {},
   "outputs": [
    {
     "data": {
      "text/plain": [
       "['52% off', '52% off', '76% off', '62% off', '76% off']"
      ]
     },
     "execution_count": 441,
     "metadata": {},
     "output_type": "execute_result"
    }
   ],
   "source": [
    "for i in disc_tag:\n",
    "    item=i.text\n",
    "    \n",
    "    discount.append(item)\n",
    "    \n",
    "discount[0:5]"
   ]
  },
  {
   "cell_type": "code",
   "execution_count": 442,
   "metadata": {},
   "outputs": [
    {
     "data": {
      "text/plain": [
       "40"
      ]
     },
     "execution_count": 442,
     "metadata": {},
     "output_type": "execute_result"
    }
   ],
   "source": [
    "len(discount)"
   ]
  },
  {
   "cell_type": "code",
   "execution_count": 443,
   "metadata": {},
   "outputs": [],
   "source": [
    "# moving to next page\n",
    "next_p=driver.find_element_by_xpath(\"//nav[@class='yFHi8N']/a[2]\")"
   ]
  },
  {
   "cell_type": "code",
   "execution_count": 444,
   "metadata": {},
   "outputs": [],
   "source": [
    "next_p.click()"
   ]
  },
  {
   "cell_type": "code",
   "execution_count": 445,
   "metadata": {},
   "outputs": [],
   "source": [
    "page='https://www.flipkart.com/search?q=sneakers&otracker=search&otracker1=search&marketplace=FLIPKART&as-show=on&as=off&page=2'"
   ]
  },
  {
   "cell_type": "code",
   "execution_count": 446,
   "metadata": {},
   "outputs": [],
   "source": [
    "# connect webpage through web drivers\n",
    "driver.get(page)"
   ]
  },
  {
   "cell_type": "code",
   "execution_count": 447,
   "metadata": {},
   "outputs": [
    {
     "data": {
      "text/plain": [
       "[<selenium.webdriver.remote.webelement.WebElement (session=\"3450f4b08c443615a41e8efdb89f04cb\", element=\"ab54b70f-e91d-40c5-b51d-807bfdda1c0c\")>,\n",
       " <selenium.webdriver.remote.webelement.WebElement (session=\"3450f4b08c443615a41e8efdb89f04cb\", element=\"ecb38d9e-6bf3-4927-810a-b7058d8a2b93\")>,\n",
       " <selenium.webdriver.remote.webelement.WebElement (session=\"3450f4b08c443615a41e8efdb89f04cb\", element=\"9c42bf47-ddcc-405e-83ec-666be2ac4e9e\")>,\n",
       " <selenium.webdriver.remote.webelement.WebElement (session=\"3450f4b08c443615a41e8efdb89f04cb\", element=\"f1571bc7-20b8-48ca-8032-acf1532bfc1e\")>,\n",
       " <selenium.webdriver.remote.webelement.WebElement (session=\"3450f4b08c443615a41e8efdb89f04cb\", element=\"32610138-5266-4f3b-af19-1b403baee2ec\")>]"
      ]
     },
     "execution_count": 447,
     "metadata": {},
     "output_type": "execute_result"
    }
   ],
   "source": [
    "#scraping brand\n",
    "brand_ta=driver.find_elements_by_xpath(\"//div[@class='_2WkVRV']\")\n",
    "brand_ta[0:5]"
   ]
  },
  {
   "cell_type": "code",
   "execution_count": 448,
   "metadata": {},
   "outputs": [
    {
     "data": {
      "text/plain": [
       "['ASTEROID', 'Lovehush', 'M K FOOTWEAR', 'Robbie jones', 'Chevit']"
      ]
     },
     "execution_count": 448,
     "metadata": {},
     "output_type": "execute_result"
    }
   ],
   "source": [
    "for i in brand_ta:\n",
    "    item=i.text\n",
    "    \n",
    "    brand.append(item)\n",
    "    \n",
    "brand[40:45]"
   ]
  },
  {
   "cell_type": "code",
   "execution_count": 449,
   "metadata": {},
   "outputs": [],
   "source": [
    "# Scrapping product description\n",
    "desc_tag=driver.find_elements_by_xpath(\"//div[@class='_2B099V']/a[1]\")"
   ]
  },
  {
   "cell_type": "code",
   "execution_count": 450,
   "metadata": {},
   "outputs": [
    {
     "data": {
      "text/plain": [
       "['Feather Print New Spring Season White Shoes Men Running...',\n",
       " \"Men's Denim Casual Sneakers Jeans Shoes Sneakers For Me...\",\n",
       " 'M K Footwear 702_Tan Sneakers For Men',\n",
       " 'Casual Sneakers Shoes For Men Sneakers For Men',\n",
       " '169 Smart Sky Blue Lace-Ups Casuals for Men Sneakers Fo...']"
      ]
     },
     "execution_count": 450,
     "metadata": {},
     "output_type": "execute_result"
    }
   ],
   "source": [
    "for i in desc_tag:\n",
    "    item=i.text\n",
    "    \n",
    "    description.append(item)\n",
    "    \n",
    "description[40:45]"
   ]
  },
  {
   "cell_type": "code",
   "execution_count": 451,
   "metadata": {},
   "outputs": [],
   "source": [
    "# scrapping price\n",
    "price_tag=driver.find_elements_by_xpath(\"//div[@class='_30jeq3']\")"
   ]
  },
  {
   "cell_type": "code",
   "execution_count": 452,
   "metadata": {},
   "outputs": [
    {
     "data": {
      "text/plain": [
       "['₹379', '₹379', '₹359', '₹474', '₹236']"
      ]
     },
     "execution_count": 452,
     "metadata": {},
     "output_type": "execute_result"
    }
   ],
   "source": [
    "for i in price_tag:\n",
    "    item=i.text\n",
    "    \n",
    "    price.append(item)\n",
    "    \n",
    "price[40:45]"
   ]
  },
  {
   "cell_type": "code",
   "execution_count": 453,
   "metadata": {},
   "outputs": [],
   "source": [
    "# Scrapping discount \n",
    "disc_tag=driver.find_elements_by_xpath(\"//div[@class='_3Ay6Sb']/span\")"
   ]
  },
  {
   "cell_type": "code",
   "execution_count": 454,
   "metadata": {},
   "outputs": [
    {
     "data": {
      "text/plain": [
       "['62% off', '62% off', '64% off', '52% off', '52% off']"
      ]
     },
     "execution_count": 454,
     "metadata": {},
     "output_type": "execute_result"
    }
   ],
   "source": [
    "for i in disc_tag:\n",
    "    item=i.text\n",
    "    \n",
    "    discount.append(item)\n",
    "    \n",
    "discount[40:45]"
   ]
  },
  {
   "cell_type": "code",
   "execution_count": 457,
   "metadata": {},
   "outputs": [],
   "source": [
    "# moving to next page\n",
    "next_p1=driver.find_element_by_xpath(\"//nav[@class='yFHi8N']/a[3]\")"
   ]
  },
  {
   "cell_type": "code",
   "execution_count": 458,
   "metadata": {},
   "outputs": [],
   "source": [
    "next_p1.click()"
   ]
  },
  {
   "cell_type": "code",
   "execution_count": 459,
   "metadata": {},
   "outputs": [],
   "source": [
    "page_3='https://www.flipkart.com/search?q=sneakers&otracker=search&otracker1=search&marketplace=FLIPKART&as-show=on&as=off&page=3'"
   ]
  },
  {
   "cell_type": "code",
   "execution_count": 460,
   "metadata": {},
   "outputs": [],
   "source": [
    "#connect webpage through web drivers\n",
    "driver.get(page_3)"
   ]
  },
  {
   "cell_type": "code",
   "execution_count": 461,
   "metadata": {},
   "outputs": [
    {
     "data": {
      "text/plain": [
       "[<selenium.webdriver.remote.webelement.WebElement (session=\"3450f4b08c443615a41e8efdb89f04cb\", element=\"9e2d31bb-dada-4236-9db8-df5616968b27\")>,\n",
       " <selenium.webdriver.remote.webelement.WebElement (session=\"3450f4b08c443615a41e8efdb89f04cb\", element=\"7abd3df3-6152-4ad4-a7cf-3d165e8b0dd4\")>,\n",
       " <selenium.webdriver.remote.webelement.WebElement (session=\"3450f4b08c443615a41e8efdb89f04cb\", element=\"34e1f9dd-c3ad-4454-a2f2-9cd39a715e80\")>,\n",
       " <selenium.webdriver.remote.webelement.WebElement (session=\"3450f4b08c443615a41e8efdb89f04cb\", element=\"11c2813f-7170-4d81-8ca8-e0dff1e3fd3a\")>,\n",
       " <selenium.webdriver.remote.webelement.WebElement (session=\"3450f4b08c443615a41e8efdb89f04cb\", element=\"aa51647c-6d6d-4ccc-878e-2550ec3b397b\")>]"
      ]
     },
     "execution_count": 461,
     "metadata": {},
     "output_type": "execute_result"
    }
   ],
   "source": [
    "#scraping brand\n",
    "brand_ta=driver.find_elements_by_xpath(\"//div[@class='_2WkVRV']\")\n",
    "brand_ta[0:5]"
   ]
  },
  {
   "cell_type": "code",
   "execution_count": 462,
   "metadata": {},
   "outputs": [
    {
     "data": {
      "text/plain": [
       "['Creer', 'Oricum', 'Earton', 'Robbie jones', 'Zsyto']"
      ]
     },
     "execution_count": 462,
     "metadata": {},
     "output_type": "execute_result"
    }
   ],
   "source": [
    "for i in brand_ta:\n",
    "    item=i.text\n",
    "    \n",
    "    brand.append(item)\n",
    "    \n",
    "brand[80:85]"
   ]
  },
  {
   "cell_type": "code",
   "execution_count": 463,
   "metadata": {},
   "outputs": [],
   "source": [
    "# Scrapping product description\n",
    "desc_tag=driver.find_elements_by_xpath(\"//div[@class='_2B099V']/a[1]\")"
   ]
  },
  {
   "cell_type": "code",
   "execution_count": 464,
   "metadata": {},
   "outputs": [
    {
     "data": {
      "text/plain": [
       "['STYLISH Sneakers For Men',\n",
       " 'ORIFWSH(OR)-1077 Sneakers For Men',\n",
       " 'Combo pack of 2 shoes for men Sneakers For Men',\n",
       " 'Casual Sneakers Shoes For Men Sneakers For Men',\n",
       " 'Sneakers For Men']"
      ]
     },
     "execution_count": 464,
     "metadata": {},
     "output_type": "execute_result"
    }
   ],
   "source": [
    "for i in desc_tag:\n",
    "    item=i.text\n",
    "    \n",
    "    description.append(item)\n",
    "    \n",
    "description[80:85]"
   ]
  },
  {
   "cell_type": "code",
   "execution_count": 465,
   "metadata": {},
   "outputs": [],
   "source": [
    "# scrapping price\n",
    "price_tag=driver.find_elements_by_xpath(\"//div[@class='_30jeq3']\")"
   ]
  },
  {
   "cell_type": "code",
   "execution_count": 466,
   "metadata": {},
   "outputs": [
    {
     "data": {
      "text/plain": [
       "['₹397', '₹214', '₹498', '₹474', '₹346']"
      ]
     },
     "execution_count": 466,
     "metadata": {},
     "output_type": "execute_result"
    }
   ],
   "source": [
    "for i in price_tag:\n",
    "    item=i.text\n",
    "    \n",
    "    price.append(item)\n",
    "    \n",
    "price[80:85]"
   ]
  },
  {
   "cell_type": "code",
   "execution_count": 467,
   "metadata": {},
   "outputs": [],
   "source": [
    "# Scrapping discount \n",
    "disc_tag=driver.find_elements_by_xpath(\"//div[@class='_3Ay6Sb']/span\")"
   ]
  },
  {
   "cell_type": "code",
   "execution_count": 468,
   "metadata": {},
   "outputs": [
    {
     "data": {
      "text/plain": [
       "['60% off', '57% off', '50% off', '52% off', '73% off']"
      ]
     },
     "execution_count": 468,
     "metadata": {},
     "output_type": "execute_result"
    }
   ],
   "source": [
    "for i in disc_tag:\n",
    "    item=i.text\n",
    "    \n",
    "    discount.append(item)\n",
    "    \n",
    "discount[80:85]"
   ]
  },
  {
   "cell_type": "code",
   "execution_count": 469,
   "metadata": {},
   "outputs": [
    {
     "name": "stdout",
     "output_type": "stream",
     "text": [
      "120 120 120 120\n"
     ]
    }
   ],
   "source": [
    "print(len(brand),len(description),len(price),len(discount))"
   ]
  },
  {
   "cell_type": "code",
   "execution_count": 470,
   "metadata": {},
   "outputs": [],
   "source": [
    "##creating data frame\n",
    "sneakers=pd.DataFrame({})\n",
    "sneakers['Brand']=brand[0:100]\n",
    "sneakers[\"Product_description\"]=description[0:100]\n",
    "sneakers['Price']=price[0:100]\n",
    "sneakers['Discount']=discount[0:100]"
   ]
  },
  {
   "cell_type": "code",
   "execution_count": 471,
   "metadata": {},
   "outputs": [
    {
     "data": {
      "text/html": [
       "<div>\n",
       "<style scoped>\n",
       "    .dataframe tbody tr th:only-of-type {\n",
       "        vertical-align: middle;\n",
       "    }\n",
       "\n",
       "    .dataframe tbody tr th {\n",
       "        vertical-align: top;\n",
       "    }\n",
       "\n",
       "    .dataframe thead th {\n",
       "        text-align: right;\n",
       "    }\n",
       "</style>\n",
       "<table border=\"1\" class=\"dataframe\">\n",
       "  <thead>\n",
       "    <tr style=\"text-align: right;\">\n",
       "      <th></th>\n",
       "      <th>Brand</th>\n",
       "      <th>Product_description</th>\n",
       "      <th>Price</th>\n",
       "      <th>Discount</th>\n",
       "    </tr>\n",
       "  </thead>\n",
       "  <tbody>\n",
       "    <tr>\n",
       "      <th>0</th>\n",
       "      <td>Robbie jones</td>\n",
       "      <td>Casual Sneakers Shoes For Men Sneakers For Men</td>\n",
       "      <td>₹474</td>\n",
       "      <td>52% off</td>\n",
       "    </tr>\n",
       "    <tr>\n",
       "      <th>1</th>\n",
       "      <td>Rockfield</td>\n",
       "      <td>Sneakers For Men</td>\n",
       "      <td>₹474</td>\n",
       "      <td>52% off</td>\n",
       "    </tr>\n",
       "    <tr>\n",
       "      <th>2</th>\n",
       "      <td>Chevit</td>\n",
       "      <td>Combo Pack of 4 Casual Sneakers With Sneakers ...</td>\n",
       "      <td>₹474</td>\n",
       "      <td>76% off</td>\n",
       "    </tr>\n",
       "    <tr>\n",
       "      <th>3</th>\n",
       "      <td>Robbie jones</td>\n",
       "      <td>Casual Sneakers Shoes For Men Sneakers For Men</td>\n",
       "      <td>₹379</td>\n",
       "      <td>62% off</td>\n",
       "    </tr>\n",
       "    <tr>\n",
       "      <th>4</th>\n",
       "      <td>World Wear Footwear</td>\n",
       "      <td>Combo Pack of 4 Latest Collection Stylish Casu...</td>\n",
       "      <td>₹474</td>\n",
       "      <td>76% off</td>\n",
       "    </tr>\n",
       "    <tr>\n",
       "      <th>...</th>\n",
       "      <td>...</td>\n",
       "      <td>...</td>\n",
       "      <td>...</td>\n",
       "      <td>...</td>\n",
       "    </tr>\n",
       "    <tr>\n",
       "      <th>95</th>\n",
       "      <td>Absolute comfort</td>\n",
       "      <td>COMBO-(2)-RWT Sneakers For Men</td>\n",
       "      <td>₹367</td>\n",
       "      <td>63% off</td>\n",
       "    </tr>\n",
       "    <tr>\n",
       "      <th>96</th>\n",
       "      <td>Kizaar</td>\n",
       "      <td>Fashionable Casual, Canvas,official or Partywe...</td>\n",
       "      <td>₹450</td>\n",
       "      <td>54% off</td>\n",
       "    </tr>\n",
       "    <tr>\n",
       "      <th>97</th>\n",
       "      <td>Shoefly</td>\n",
       "      <td>Combo Men Pack of 2 Loafers Shoes Sneakers For...</td>\n",
       "      <td>₹367</td>\n",
       "      <td>63% off</td>\n",
       "    </tr>\n",
       "    <tr>\n",
       "      <th>98</th>\n",
       "      <td>WELDONE</td>\n",
       "      <td>3 Pair Combo Sneakers For Men</td>\n",
       "      <td>₹639</td>\n",
       "      <td>57% off</td>\n",
       "    </tr>\n",
       "    <tr>\n",
       "      <th>99</th>\n",
       "      <td>Magnolia</td>\n",
       "      <td>White Sneakers Sneakers For Men</td>\n",
       "      <td>₹293</td>\n",
       "      <td>70% off</td>\n",
       "    </tr>\n",
       "  </tbody>\n",
       "</table>\n",
       "<p>100 rows × 4 columns</p>\n",
       "</div>"
      ],
      "text/plain": [
       "                  Brand                                Product_description  \\\n",
       "0          Robbie jones     Casual Sneakers Shoes For Men Sneakers For Men   \n",
       "1             Rockfield                                   Sneakers For Men   \n",
       "2                Chevit  Combo Pack of 4 Casual Sneakers With Sneakers ...   \n",
       "3          Robbie jones     Casual Sneakers Shoes For Men Sneakers For Men   \n",
       "4   World Wear Footwear  Combo Pack of 4 Latest Collection Stylish Casu...   \n",
       "..                  ...                                                ...   \n",
       "95     Absolute comfort                     COMBO-(2)-RWT Sneakers For Men   \n",
       "96               Kizaar  Fashionable Casual, Canvas,official or Partywe...   \n",
       "97              Shoefly  Combo Men Pack of 2 Loafers Shoes Sneakers For...   \n",
       "98              WELDONE                      3 Pair Combo Sneakers For Men   \n",
       "99             Magnolia                    White Sneakers Sneakers For Men   \n",
       "\n",
       "   Price Discount  \n",
       "0   ₹474  52% off  \n",
       "1   ₹474  52% off  \n",
       "2   ₹474  76% off  \n",
       "3   ₹379  62% off  \n",
       "4   ₹474  76% off  \n",
       "..   ...      ...  \n",
       "95  ₹367  63% off  \n",
       "96  ₹450  54% off  \n",
       "97  ₹367  63% off  \n",
       "98  ₹639  57% off  \n",
       "99  ₹293  70% off  \n",
       "\n",
       "[100 rows x 4 columns]"
      ]
     },
     "execution_count": 471,
     "metadata": {},
     "output_type": "execute_result"
    }
   ],
   "source": [
    "sneakers"
   ]
  },
  {
   "cell_type": "markdown",
   "metadata": {},
   "source": [
    "# 9. top sheos from mytra apply color and price filter"
   ]
  },
  {
   "cell_type": "code",
   "execution_count": 147,
   "metadata": {},
   "outputs": [],
   "source": [
    "driver.get('https://www.myntra.com/shoes')"
   ]
  },
  {
   "cell_type": "code",
   "execution_count": 148,
   "metadata": {},
   "outputs": [],
   "source": [
    "# setting price filter to 5312 to 10475\n",
    "price=driver.find_element_by_xpath(\"//ul[@class='price-list']/li[2]\")\n"
   ]
  },
  {
   "cell_type": "code",
   "execution_count": 149,
   "metadata": {},
   "outputs": [],
   "source": [
    "price.click()"
   ]
  },
  {
   "cell_type": "code",
   "execution_count": 150,
   "metadata": {},
   "outputs": [],
   "source": [
    "#setting color filter to black\n",
    "color=driver.find_element_by_xpath(\"//li[@class='colour-listItem']\")"
   ]
  },
  {
   "cell_type": "code",
   "execution_count": 151,
   "metadata": {},
   "outputs": [],
   "source": [
    "color.click()"
   ]
  },
  {
   "cell_type": "code",
   "execution_count": 152,
   "metadata": {},
   "outputs": [],
   "source": [
    "#specifying url\n",
    "myntra='https://www.myntra.com/shoes?f=Color%3ABlack_36454f&plaEnabled=false&rf=Price%3A5312.0_10475.0_5312.0%20TO%2010475.0'"
   ]
  },
  {
   "cell_type": "code",
   "execution_count": 153,
   "metadata": {},
   "outputs": [],
   "source": [
    "# connecting webpage to be scrapped with web driver\n",
    "driver.get(myntra)"
   ]
  },
  {
   "cell_type": "code",
   "execution_count": 154,
   "metadata": {},
   "outputs": [],
   "source": [
    "#creating empty lists\n",
    "brand=[]\n",
    "description=[]\n",
    "price=[ ]"
   ]
  },
  {
   "cell_type": "code",
   "execution_count": 155,
   "metadata": {},
   "outputs": [
    {
     "data": {
      "text/plain": [
       "[<selenium.webdriver.remote.webelement.WebElement (session=\"89ce08905c555ae90a992167f59ec5a2\", element=\"3da7c2f2-d578-42fa-a6f6-5f8bf37ae70e\")>,\n",
       " <selenium.webdriver.remote.webelement.WebElement (session=\"89ce08905c555ae90a992167f59ec5a2\", element=\"473f3a59-c692-49f5-b4b4-acdbcc29aa35\")>,\n",
       " <selenium.webdriver.remote.webelement.WebElement (session=\"89ce08905c555ae90a992167f59ec5a2\", element=\"50fc8a03-8349-412b-b6b6-b9ae0d284a13\")>,\n",
       " <selenium.webdriver.remote.webelement.WebElement (session=\"89ce08905c555ae90a992167f59ec5a2\", element=\"ba3b5b1a-1e7d-4552-95d0-13cedce45c11\")>,\n",
       " <selenium.webdriver.remote.webelement.WebElement (session=\"89ce08905c555ae90a992167f59ec5a2\", element=\"c6680a67-fdc4-46d6-8e87-eae3657262c0\")>]"
      ]
     },
     "execution_count": 155,
     "metadata": {},
     "output_type": "execute_result"
    }
   ],
   "source": [
    "#scapping brand\n",
    "brand_tag=driver.find_elements_by_xpath(\"//div[@class='product-productMetaInfo']/h3\")\n",
    "brand_tag[0:5]"
   ]
  },
  {
   "cell_type": "code",
   "execution_count": 156,
   "metadata": {},
   "outputs": [
    {
     "data": {
      "text/plain": [
       "['Nike', 'Puma', 'Nike', 'Nike', 'Nike']"
      ]
     },
     "execution_count": 156,
     "metadata": {},
     "output_type": "execute_result"
    }
   ],
   "source": [
    "for i in brand_tag:\n",
    "    item=i.text\n",
    "    brand.append(item)\n",
    "    \n",
    "brand[0:5]   "
   ]
  },
  {
   "cell_type": "code",
   "execution_count": 157,
   "metadata": {},
   "outputs": [
    {
     "data": {
      "text/plain": [
       "50"
      ]
     },
     "execution_count": 157,
     "metadata": {},
     "output_type": "execute_result"
    }
   ],
   "source": [
    "len(brand)"
   ]
  },
  {
   "cell_type": "code",
   "execution_count": 158,
   "metadata": {},
   "outputs": [
    {
     "data": {
      "text/plain": [
       "[<selenium.webdriver.remote.webelement.WebElement (session=\"89ce08905c555ae90a992167f59ec5a2\", element=\"72c0481e-36b0-4d76-83fe-92fdce208edd\")>,\n",
       " <selenium.webdriver.remote.webelement.WebElement (session=\"89ce08905c555ae90a992167f59ec5a2\", element=\"95061095-71ff-4cb5-8e5f-5e1ecc082e58\")>,\n",
       " <selenium.webdriver.remote.webelement.WebElement (session=\"89ce08905c555ae90a992167f59ec5a2\", element=\"edc22db4-aa93-4713-80b5-103e8e2b4c88\")>,\n",
       " <selenium.webdriver.remote.webelement.WebElement (session=\"89ce08905c555ae90a992167f59ec5a2\", element=\"0666b3e5-05f9-48e5-baa8-4b666e989f58\")>,\n",
       " <selenium.webdriver.remote.webelement.WebElement (session=\"89ce08905c555ae90a992167f59ec5a2\", element=\"1aa9cfee-3910-469b-8775-d874c60153a7\")>]"
      ]
     },
     "execution_count": 158,
     "metadata": {},
     "output_type": "execute_result"
    }
   ],
   "source": [
    "# scrapping description\n",
    "desc_tag=driver.find_elements_by_xpath(\"//div[@class='product-productMetaInfo']/h4\")\n",
    "desc_tag[0:5]"
   ]
  },
  {
   "cell_type": "code",
   "execution_count": 159,
   "metadata": {},
   "outputs": [
    {
     "data": {
      "text/plain": [
       "['AIR ZOOM PEGASUS Running Shoes',\n",
       " '',\n",
       " 'Men HYBRID NETFIT Running Shoe',\n",
       " '',\n",
       " 'Unisex PHANTOM Football Shoes']"
      ]
     },
     "execution_count": 159,
     "metadata": {},
     "output_type": "execute_result"
    }
   ],
   "source": [
    "for i in desc_tag:\n",
    "    item=i.text\n",
    "    description.append(item)\n",
    "    \n",
    "description[0:5]   "
   ]
  },
  {
   "cell_type": "code",
   "execution_count": 160,
   "metadata": {},
   "outputs": [],
   "source": [
    "description=description[0:100:2]"
   ]
  },
  {
   "cell_type": "code",
   "execution_count": 161,
   "metadata": {},
   "outputs": [
    {
     "data": {
      "text/plain": [
       "['AIR ZOOM PEGASUS Running Shoes',\n",
       " 'Men HYBRID NETFIT Running Shoe',\n",
       " 'Unisex PHANTOM Football Shoes',\n",
       " 'Men RENEW RUN 2 Running Shoes',\n",
       " 'Women AIR ZOOM Running Shoes']"
      ]
     },
     "execution_count": 161,
     "metadata": {},
     "output_type": "execute_result"
    }
   ],
   "source": [
    "description[0:5]"
   ]
  },
  {
   "cell_type": "code",
   "execution_count": 162,
   "metadata": {},
   "outputs": [
    {
     "data": {
      "text/plain": [
       "[<selenium.webdriver.remote.webelement.WebElement (session=\"89ce08905c555ae90a992167f59ec5a2\", element=\"e67b0630-c83a-48da-ba5f-cc5af8dc4d69\")>,\n",
       " <selenium.webdriver.remote.webelement.WebElement (session=\"89ce08905c555ae90a992167f59ec5a2\", element=\"1661f2dd-c775-4dea-83ab-4d61e1e34a09\")>,\n",
       " <selenium.webdriver.remote.webelement.WebElement (session=\"89ce08905c555ae90a992167f59ec5a2\", element=\"f894543b-b3c3-4e3d-9fca-4c9dc7d61dc8\")>,\n",
       " <selenium.webdriver.remote.webelement.WebElement (session=\"89ce08905c555ae90a992167f59ec5a2\", element=\"1250a123-4739-435f-8b76-cc021d0589bf\")>,\n",
       " <selenium.webdriver.remote.webelement.WebElement (session=\"89ce08905c555ae90a992167f59ec5a2\", element=\"538e550a-511d-4f70-9266-70bef20cdd00\")>]"
      ]
     },
     "execution_count": 162,
     "metadata": {},
     "output_type": "execute_result"
    }
   ],
   "source": [
    "# scrapping price\n",
    "price_tag=driver.find_elements_by_xpath(\"//span[@class='product-discountedPrice']\")\n",
    "price_tag[0:5]"
   ]
  },
  {
   "cell_type": "code",
   "execution_count": 163,
   "metadata": {},
   "outputs": [
    {
     "data": {
      "text/plain": [
       "['Rs. 8621', 'Rs. 6599', 'Rs. 5996', 'Rs. 5756', 'Rs. 7996']"
      ]
     },
     "execution_count": 163,
     "metadata": {},
     "output_type": "execute_result"
    }
   ],
   "source": [
    "for i in price_tag:\n",
    "    item=i.text\n",
    "    price.append(item)\n",
    "\n",
    "price[0:5]"
   ]
  },
  {
   "cell_type": "code",
   "execution_count": 167,
   "metadata": {},
   "outputs": [
    {
     "name": "stdout",
     "output_type": "stream",
     "text": [
      "50 50 39\n"
     ]
    }
   ],
   "source": [
    "print(len(brand),len(description),len(price))"
   ]
  },
  {
   "cell_type": "code",
   "execution_count": 168,
   "metadata": {},
   "outputs": [
    {
     "data": {
      "text/html": [
       "<div>\n",
       "<style scoped>\n",
       "    .dataframe tbody tr th:only-of-type {\n",
       "        vertical-align: middle;\n",
       "    }\n",
       "\n",
       "    .dataframe tbody tr th {\n",
       "        vertical-align: top;\n",
       "    }\n",
       "\n",
       "    .dataframe thead th {\n",
       "        text-align: right;\n",
       "    }\n",
       "</style>\n",
       "<table border=\"1\" class=\"dataframe\">\n",
       "  <thead>\n",
       "    <tr style=\"text-align: right;\">\n",
       "      <th></th>\n",
       "      <th>Brand</th>\n",
       "      <th>Description</th>\n",
       "      <th>Price</th>\n",
       "    </tr>\n",
       "  </thead>\n",
       "  <tbody>\n",
       "    <tr>\n",
       "      <th>0</th>\n",
       "      <td>Nike</td>\n",
       "      <td>AIR ZOOM PEGASUS Running Shoes</td>\n",
       "      <td>Rs. 8621</td>\n",
       "    </tr>\n",
       "    <tr>\n",
       "      <th>1</th>\n",
       "      <td>Puma</td>\n",
       "      <td>Men HYBRID NETFIT Running Shoe</td>\n",
       "      <td>Rs. 6599</td>\n",
       "    </tr>\n",
       "    <tr>\n",
       "      <th>2</th>\n",
       "      <td>Nike</td>\n",
       "      <td>Unisex PHANTOM Football Shoes</td>\n",
       "      <td>Rs. 5996</td>\n",
       "    </tr>\n",
       "    <tr>\n",
       "      <th>3</th>\n",
       "      <td>Nike</td>\n",
       "      <td>Men RENEW RUN 2 Running Shoes</td>\n",
       "      <td>Rs. 5756</td>\n",
       "    </tr>\n",
       "    <tr>\n",
       "      <th>4</th>\n",
       "      <td>Nike</td>\n",
       "      <td>Women AIR ZOOM Running Shoes</td>\n",
       "      <td>Rs. 7996</td>\n",
       "    </tr>\n",
       "    <tr>\n",
       "      <th>5</th>\n",
       "      <td>ADIDAS</td>\n",
       "      <td>Men SOLAR DRIVE 19 M Running</td>\n",
       "      <td>Rs. 8399</td>\n",
       "    </tr>\n",
       "    <tr>\n",
       "      <th>6</th>\n",
       "      <td>Nike</td>\n",
       "      <td>Men Solid SKYVE MAX Sneakers</td>\n",
       "      <td>Rs. 6506</td>\n",
       "    </tr>\n",
       "    <tr>\n",
       "      <th>7</th>\n",
       "      <td>Nike</td>\n",
       "      <td>Men AIR MAX SEQUENT Sneakers</td>\n",
       "      <td>Rs. 5596</td>\n",
       "    </tr>\n",
       "    <tr>\n",
       "      <th>8</th>\n",
       "      <td>Nike</td>\n",
       "      <td>ZOOM FREAK 2 Basketball Shoes</td>\n",
       "      <td>Rs. 8236</td>\n",
       "    </tr>\n",
       "    <tr>\n",
       "      <th>9</th>\n",
       "      <td>Nike</td>\n",
       "      <td>Women RENEW Running Shoes</td>\n",
       "      <td>Rs. 5596</td>\n",
       "    </tr>\n",
       "    <tr>\n",
       "      <th>10</th>\n",
       "      <td>Nike</td>\n",
       "      <td>Men AIR ZOOM Running Shoes</td>\n",
       "      <td>Rs. 8236</td>\n",
       "    </tr>\n",
       "    <tr>\n",
       "      <th>11</th>\n",
       "      <td>Puma</td>\n",
       "      <td>Men Hydra Running Shoes</td>\n",
       "      <td>Rs. 6209</td>\n",
       "    </tr>\n",
       "    <tr>\n",
       "      <th>12</th>\n",
       "      <td>Hush Puppies</td>\n",
       "      <td>Men Solid Leather Formal Slip-Ons</td>\n",
       "      <td>Rs. 7996</td>\n",
       "    </tr>\n",
       "    <tr>\n",
       "      <th>13</th>\n",
       "      <td>Nike</td>\n",
       "      <td>Women PEGASUS 37 Running Shoes</td>\n",
       "      <td>Rs. 6635</td>\n",
       "    </tr>\n",
       "    <tr>\n",
       "      <th>14</th>\n",
       "      <td>Nike</td>\n",
       "      <td>Men AIR MAX EXCEE Sneakers</td>\n",
       "      <td>Rs. 5596</td>\n",
       "    </tr>\n",
       "    <tr>\n",
       "      <th>15</th>\n",
       "      <td>Nike</td>\n",
       "      <td>Women FLEX 2020 Running</td>\n",
       "      <td>Rs. 9236</td>\n",
       "    </tr>\n",
       "    <tr>\n",
       "      <th>16</th>\n",
       "      <td>Nike</td>\n",
       "      <td>Women REACT Running Shoes</td>\n",
       "      <td>Rs. 9746</td>\n",
       "    </tr>\n",
       "    <tr>\n",
       "      <th>17</th>\n",
       "      <td>Nike</td>\n",
       "      <td>Men KD13 EP Basketball Shoes</td>\n",
       "      <td>Rs. 5736</td>\n",
       "    </tr>\n",
       "    <tr>\n",
       "      <th>18</th>\n",
       "      <td>Nike</td>\n",
       "      <td>Men AIR MAX VG-R Sneakers</td>\n",
       "      <td>Rs. 6396</td>\n",
       "    </tr>\n",
       "    <tr>\n",
       "      <th>19</th>\n",
       "      <td>Nike</td>\n",
       "      <td>Women FREE RN 5.0 Shoes</td>\n",
       "      <td>Rs. 6396</td>\n",
       "    </tr>\n",
       "    <tr>\n",
       "      <th>20</th>\n",
       "      <td>Nike</td>\n",
       "      <td>Women AIR ZOOM Running Shoes</td>\n",
       "      <td>Rs. 5599</td>\n",
       "    </tr>\n",
       "    <tr>\n",
       "      <th>21</th>\n",
       "      <td>Nike</td>\n",
       "      <td>Men MID '77 VINTAGE Sneakers</td>\n",
       "      <td>Rs. 7999</td>\n",
       "    </tr>\n",
       "    <tr>\n",
       "      <th>22</th>\n",
       "      <td>Hush Puppies</td>\n",
       "      <td>Men Colourblocked Driving Shoes</td>\n",
       "      <td>Rs. 8799</td>\n",
       "    </tr>\n",
       "    <tr>\n",
       "      <th>23</th>\n",
       "      <td>Puma</td>\n",
       "      <td>LQDCELL Method Running Shoes</td>\n",
       "      <td>Rs. 6801</td>\n",
       "    </tr>\n",
       "    <tr>\n",
       "      <th>24</th>\n",
       "      <td>Hush Puppies</td>\n",
       "      <td>Men Solid Leather Formal Slip-Ons</td>\n",
       "      <td>Rs. 7996</td>\n",
       "    </tr>\n",
       "    <tr>\n",
       "      <th>25</th>\n",
       "      <td>Hush Puppies</td>\n",
       "      <td>Men Leather Slip-On Sneakers</td>\n",
       "      <td>Rs. 10399</td>\n",
       "    </tr>\n",
       "    <tr>\n",
       "      <th>26</th>\n",
       "      <td>Puma</td>\n",
       "      <td>Men SPEED 500 2 Running Shoes</td>\n",
       "      <td>Rs. 7499</td>\n",
       "    </tr>\n",
       "    <tr>\n",
       "      <th>27</th>\n",
       "      <td>ADIDAS Originals</td>\n",
       "      <td>Men Superstar Sneakers</td>\n",
       "      <td>Rs. 6269</td>\n",
       "    </tr>\n",
       "    <tr>\n",
       "      <th>28</th>\n",
       "      <td>Hush Puppies</td>\n",
       "      <td>Men Solid Slip-On Sneakers</td>\n",
       "      <td>Rs. 5399</td>\n",
       "    </tr>\n",
       "    <tr>\n",
       "      <th>29</th>\n",
       "      <td>Puma</td>\n",
       "      <td>Women Zone XT Running Shoes</td>\n",
       "      <td>Rs. 5436</td>\n",
       "    </tr>\n",
       "    <tr>\n",
       "      <th>30</th>\n",
       "      <td>Nike</td>\n",
       "      <td>Men AIR MAX VG-R Sneakers</td>\n",
       "      <td>Rs. 5399</td>\n",
       "    </tr>\n",
       "    <tr>\n",
       "      <th>31</th>\n",
       "      <td>Nike</td>\n",
       "      <td>Women AIR MAX VERONA Sneakers</td>\n",
       "      <td>Rs. 8796</td>\n",
       "    </tr>\n",
       "    <tr>\n",
       "      <th>32</th>\n",
       "      <td>Hush Puppies</td>\n",
       "      <td>Men Leather Slip-On Sneakers</td>\n",
       "      <td>Rs. 5736</td>\n",
       "    </tr>\n",
       "    <tr>\n",
       "      <th>33</th>\n",
       "      <td>ADIDAS Originals</td>\n",
       "      <td>Men Nite Jogger Fluid Sneakers</td>\n",
       "      <td>Rs. 6749</td>\n",
       "    </tr>\n",
       "    <tr>\n",
       "      <th>34</th>\n",
       "      <td>ADIDAS</td>\n",
       "      <td>Men ALPHATORSION Running Shoes</td>\n",
       "      <td>Rs. 6146</td>\n",
       "    </tr>\n",
       "    <tr>\n",
       "      <th>35</th>\n",
       "      <td>Tommy Hilfiger</td>\n",
       "      <td>Men Solid Leather Sneakers</td>\n",
       "      <td>Rs. 7693</td>\n",
       "    </tr>\n",
       "    <tr>\n",
       "      <th>36</th>\n",
       "      <td>Louis Philippe</td>\n",
       "      <td>Leather Formal Shoes</td>\n",
       "      <td>Rs. 9749</td>\n",
       "    </tr>\n",
       "    <tr>\n",
       "      <th>37</th>\n",
       "      <td>Nike</td>\n",
       "      <td>Men REPOSTO Sneakers</td>\n",
       "      <td>Rs. 5436</td>\n",
       "    </tr>\n",
       "    <tr>\n",
       "      <th>38</th>\n",
       "      <td>Ruosh</td>\n",
       "      <td>Men Formal Slip-On Shoes</td>\n",
       "      <td>Rs. 5949</td>\n",
       "    </tr>\n",
       "  </tbody>\n",
       "</table>\n",
       "</div>"
      ],
      "text/plain": [
       "               Brand                        Description      Price\n",
       "0               Nike     AIR ZOOM PEGASUS Running Shoes   Rs. 8621\n",
       "1               Puma     Men HYBRID NETFIT Running Shoe   Rs. 6599\n",
       "2               Nike      Unisex PHANTOM Football Shoes   Rs. 5996\n",
       "3               Nike      Men RENEW RUN 2 Running Shoes   Rs. 5756\n",
       "4               Nike       Women AIR ZOOM Running Shoes   Rs. 7996\n",
       "5             ADIDAS       Men SOLAR DRIVE 19 M Running   Rs. 8399\n",
       "6               Nike       Men Solid SKYVE MAX Sneakers   Rs. 6506\n",
       "7               Nike       Men AIR MAX SEQUENT Sneakers   Rs. 5596\n",
       "8               Nike      ZOOM FREAK 2 Basketball Shoes   Rs. 8236\n",
       "9               Nike          Women RENEW Running Shoes   Rs. 5596\n",
       "10              Nike         Men AIR ZOOM Running Shoes   Rs. 8236\n",
       "11              Puma            Men Hydra Running Shoes   Rs. 6209\n",
       "12      Hush Puppies  Men Solid Leather Formal Slip-Ons   Rs. 7996\n",
       "13              Nike     Women PEGASUS 37 Running Shoes   Rs. 6635\n",
       "14              Nike         Men AIR MAX EXCEE Sneakers   Rs. 5596\n",
       "15              Nike            Women FLEX 2020 Running   Rs. 9236\n",
       "16              Nike          Women REACT Running Shoes   Rs. 9746\n",
       "17              Nike       Men KD13 EP Basketball Shoes   Rs. 5736\n",
       "18              Nike          Men AIR MAX VG-R Sneakers   Rs. 6396\n",
       "19              Nike            Women FREE RN 5.0 Shoes   Rs. 6396\n",
       "20              Nike       Women AIR ZOOM Running Shoes   Rs. 5599\n",
       "21              Nike       Men MID '77 VINTAGE Sneakers   Rs. 7999\n",
       "22      Hush Puppies    Men Colourblocked Driving Shoes   Rs. 8799\n",
       "23              Puma       LQDCELL Method Running Shoes   Rs. 6801\n",
       "24      Hush Puppies  Men Solid Leather Formal Slip-Ons   Rs. 7996\n",
       "25      Hush Puppies       Men Leather Slip-On Sneakers  Rs. 10399\n",
       "26              Puma      Men SPEED 500 2 Running Shoes   Rs. 7499\n",
       "27  ADIDAS Originals             Men Superstar Sneakers   Rs. 6269\n",
       "28      Hush Puppies         Men Solid Slip-On Sneakers   Rs. 5399\n",
       "29              Puma        Women Zone XT Running Shoes   Rs. 5436\n",
       "30              Nike          Men AIR MAX VG-R Sneakers   Rs. 5399\n",
       "31              Nike      Women AIR MAX VERONA Sneakers   Rs. 8796\n",
       "32      Hush Puppies       Men Leather Slip-On Sneakers   Rs. 5736\n",
       "33  ADIDAS Originals     Men Nite Jogger Fluid Sneakers   Rs. 6749\n",
       "34            ADIDAS     Men ALPHATORSION Running Shoes   Rs. 6146\n",
       "35    Tommy Hilfiger         Men Solid Leather Sneakers   Rs. 7693\n",
       "36    Louis Philippe               Leather Formal Shoes   Rs. 9749\n",
       "37              Nike               Men REPOSTO Sneakers   Rs. 5436\n",
       "38             Ruosh           Men Formal Slip-On Shoes   Rs. 5949"
      ]
     },
     "execution_count": 168,
     "metadata": {},
     "output_type": "execute_result"
    }
   ],
   "source": [
    "shoes=pd.DataFrame({})\n",
    "shoes['Brand']=brand[0:39]\n",
    "shoes['Description']=description[0:39]\n",
    "shoes['Price']=price[0:39]\n",
    "\n",
    "shoes"
   ]
  },
  {
   "cell_type": "markdown",
   "metadata": {},
   "source": [
    "# 10. scrapping first 10 laptops apply filter CPU (I7,I9)"
   ]
  },
  {
   "cell_type": "code",
   "execution_count": 174,
   "metadata": {},
   "outputs": [],
   "source": [
    "driver.get('https://www.amazon.in/')"
   ]
  },
  {
   "cell_type": "code",
   "execution_count": 175,
   "metadata": {},
   "outputs": [],
   "source": [
    "# searching for laptop\n",
    "lap=driver.find_element_by_xpath(\"//div[@class='nav-search-field ']/input\")"
   ]
  },
  {
   "cell_type": "code",
   "execution_count": 176,
   "metadata": {},
   "outputs": [],
   "source": [
    "# passing the product name\n",
    "lap.send_keys('Laptop')"
   ]
  },
  {
   "cell_type": "code",
   "execution_count": 177,
   "metadata": {},
   "outputs": [],
   "source": [
    "#search button\n",
    "search=driver.find_element_by_xpath(\"//div[@class='nav-search-submit nav-sprite']\")"
   ]
  },
  {
   "cell_type": "code",
   "execution_count": 178,
   "metadata": {},
   "outputs": [],
   "source": [
    "# click on search button\n",
    "search.click()"
   ]
  },
  {
   "cell_type": "code",
   "execution_count": 179,
   "metadata": {},
   "outputs": [],
   "source": [
    "# filtering for i7 processor\n",
    "i7=driver.find_element_by_xpath(\"//li[@aria-label='Intel Core i7']\")"
   ]
  },
  {
   "cell_type": "code",
   "execution_count": 180,
   "metadata": {},
   "outputs": [],
   "source": [
    "i7.click()"
   ]
  },
  {
   "cell_type": "code",
   "execution_count": 181,
   "metadata": {},
   "outputs": [],
   "source": [
    "# filering for i9 processor\n",
    "i9=driver.find_element_by_xpath(\"//li[@aria-label='Intel Core i9']\")"
   ]
  },
  {
   "cell_type": "code",
   "execution_count": 182,
   "metadata": {},
   "outputs": [],
   "source": [
    "i9.click()"
   ]
  },
  {
   "cell_type": "code",
   "execution_count": 183,
   "metadata": {},
   "outputs": [],
   "source": [
    "# specifying url to be scraped\n",
    "url='https://www.amazon.in/s?k=Laptop&i=computers&rh=n%3A1375424031%2Cp_n_feature_thirteen_browse-bin%3A12598163031%7C16757432031&dc&qid=1613385432&rnid=12598141031&ref=sr_nr_p_n_feature_thirteen_browse-bin_17'"
   ]
  },
  {
   "cell_type": "code",
   "execution_count": 184,
   "metadata": {},
   "outputs": [],
   "source": [
    "# connecting webpage to be scraped with web drivers\n",
    "driver.get(url)"
   ]
  },
  {
   "cell_type": "code",
   "execution_count": 186,
   "metadata": {},
   "outputs": [],
   "source": [
    "#creating empty lists\n",
    "title=[]\n",
    "price=[]"
   ]
  },
  {
   "cell_type": "code",
   "execution_count": 187,
   "metadata": {},
   "outputs": [
    {
     "data": {
      "text/plain": [
       "[<selenium.webdriver.remote.webelement.WebElement (session=\"95dd3535714a127500e2920f677198fa\", element=\"ce109310-822c-42a2-aaab-626ff751d2e4\")>,\n",
       " <selenium.webdriver.remote.webelement.WebElement (session=\"95dd3535714a127500e2920f677198fa\", element=\"8a051386-4307-47bd-bd23-32849b139b79\")>,\n",
       " <selenium.webdriver.remote.webelement.WebElement (session=\"95dd3535714a127500e2920f677198fa\", element=\"2a114b59-6ae1-4e88-a7c7-324d55a943d7\")>,\n",
       " <selenium.webdriver.remote.webelement.WebElement (session=\"95dd3535714a127500e2920f677198fa\", element=\"50707f0c-4f66-4f2e-ab96-82a3d1f2b3c6\")>,\n",
       " <selenium.webdriver.remote.webelement.WebElement (session=\"95dd3535714a127500e2920f677198fa\", element=\"adc35c9e-eed4-4247-b26a-d6136d63d20b\")>]"
      ]
     },
     "execution_count": 187,
     "metadata": {},
     "output_type": "execute_result"
    }
   ],
   "source": [
    "#scrapping of title\n",
    "title_tag=driver.find_elements_by_xpath(\"//span[@class='a-size-medium a-color-base a-text-normal']\")\n",
    "title_tag[0:5]"
   ]
  },
  {
   "cell_type": "code",
   "execution_count": 188,
   "metadata": {},
   "outputs": [
    {
     "data": {
      "text/plain": [
       "['(Renewed) Dell Latitude E7270 12.5 inch Laptop (Core i7 6th Gen/8 GB (Up to 16)/256 GB SSD/Windows 10 Pro/MS Office/HD Display/Integrated Graphics)',\n",
       " '(Renewed) Dell Latitude E7270 12.5 inch Laptop (Core i7 6th Gen/16 GB/256 GB SSD/Windows 10 Pro/MS Office/HD Display/Integrated Graphics)',\n",
       " 'Mi Notebook Horizon Edition 14 Intel Core i7-10510U 10th Gen Thin and Light Laptop(8GB/512GB SSD/Windows 10/Nvidia MX350 2GB Graphics/Grey/1.35Kg), XMA1904-AF+Webcam',\n",
       " '(Renewed) Lenovo ThinkPad X1 Carbon 14-inch Laptop Thin,Powerful and Lightweight Core i7 6th Gen/8GB /256 GB SSD/Windows 10 Pro/MS Office 2019/More than 4 GB Intel HD Graphics,Backlit Keyboard),Black',\n",
       " '(Renewed) Lenovo ThinkPad X1 Carbon 14-inch Laptop Thin,Powerful and Lightweight(Core i7 6th Gen/8GB /512 GB SSD/Windows 10 Pro/MS Office 2019/More than 4 GB Intel HD Graphics,Backlit Keyboard), Black']"
      ]
     },
     "execution_count": 188,
     "metadata": {},
     "output_type": "execute_result"
    }
   ],
   "source": [
    "for i in title_tag:\n",
    "    titl=i.text\n",
    "    title.append(titl)\n",
    "    \n",
    "title[0:5]"
   ]
  },
  {
   "cell_type": "code",
   "execution_count": null,
   "metadata": {},
   "outputs": [],
   "source": []
  }
 ],
 "metadata": {
  "kernelspec": {
   "display_name": "Python 3",
   "language": "python",
   "name": "python3"
  },
  "language_info": {
   "codemirror_mode": {
    "name": "ipython",
    "version": 3
   },
   "file_extension": ".py",
   "mimetype": "text/x-python",
   "name": "python",
   "nbconvert_exporter": "python",
   "pygments_lexer": "ipython3",
   "version": "3.8.3"
  }
 },
 "nbformat": 4,
 "nbformat_minor": 4
}
